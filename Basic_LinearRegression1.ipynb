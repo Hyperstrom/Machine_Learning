{
 "cells": [
  {
   "cell_type": "code",
   "execution_count": 1,
   "id": "4cc93a6a",
   "metadata": {},
   "outputs": [],
   "source": [
    "import pandas as pd\n",
    "import seaborn as sb\n",
    "import numpy as np\n",
    "from matplotlib import pyplot as plt\n",
    "from sklearn.linear_model import LinearRegression"
   ]
  },
  {
   "cell_type": "markdown",
   "id": "5a5be3e8",
   "metadata": {},
   "source": [
    "#### Data Input and Output"
   ]
  },
  {
   "cell_type": "code",
   "execution_count": 2,
   "id": "ff69c2b7",
   "metadata": {},
   "outputs": [],
   "source": [
    "X_IV=np.array([[1],[2],[3],[4],[5],[6],[7],[8],[9],[10]])\n",
    "Y_DV=np.array([[2],[1],[3],[6],[9],[11],[13],[15],[17],[20]])"
   ]
  },
  {
   "cell_type": "code",
   "execution_count": 4,
   "id": "266b92e5",
   "metadata": {},
   "outputs": [
    {
     "data": {
      "text/plain": [
       "array([[ 2],\n",
       "       [ 1],\n",
       "       [ 3],\n",
       "       [ 6],\n",
       "       [ 9],\n",
       "       [11],\n",
       "       [13],\n",
       "       [15],\n",
       "       [17],\n",
       "       [20]])"
      ]
     },
     "execution_count": 4,
     "metadata": {},
     "output_type": "execute_result"
    }
   ],
   "source": [
    "#X_IV\n",
    "Y_DV"
   ]
  },
  {
   "cell_type": "code",
   "execution_count": 5,
   "id": "083825f0",
   "metadata": {},
   "outputs": [
    {
     "data": {
      "image/png": "[encoded data removed]",
      "text/plain": [
       "<Figure size 640x480 with 1 Axes>"
      ]
     },
     "metadata": {},
     "output_type": "display_data"
    }
   ],
   "source": [
    "plt.plot(X_IV,Y_DV,\"*r\")\n",
    "plt.xlabel(\"X...\")\n",
    "plt.ylabel(\"y.....\")\n",
    "plt.title(\"XvsY\")\n",
    "plt.show()"
   ]
  },
  {
   "cell_type": "markdown",
   "id": "037c932f",
   "metadata": {},
   "source": [
    "### Data Frame "
   ]
  },
  {
   "cell_type": "code",
   "execution_count": 6,
   "id": "1c80d40a",
   "metadata": {},
   "outputs": [],
   "source": [
    "Data=pd.DataFrame({\"Input\":list(X_IV[:,0]),\"OutPut\":list(Y_DV[:,0])})"
   ]
  },
  {
   "cell_type": "code",
   "execution_count": 7,
   "id": "dc6b69b3",
   "metadata": {},
   "outputs": [
    {
     "data": {
      "text/html": [
       "<div>\n",
       "<style scoped>\n",
       "    .dataframe tbody tr th:only-of-type {\n",
       "        vertical-align: middle;\n",
       "    }\n",
       "\n",
       "    .dataframe tbody tr th {\n",
       "        vertical-align: top;\n",
       "    }\n",
       "\n",
       "    .dataframe thead th {\n",
       "        text-align: right;\n",
       "    }\n",
       "</style>\n",
       "<table border=\"1\" class=\"dataframe\">\n",
       "  <thead>\n",
       "    <tr style=\"text-align: right;\">\n",
       "      <th></th>\n",
       "      <th>Input</th>\n",
       "      <th>OutPut</th>\n",
       "    </tr>\n",
       "  </thead>\n",
       "  <tbody>\n",
       "    <tr>\n",
       "      <th>0</th>\n",
       "      <td>1</td>\n",
       "      <td>2</td>\n",
       "    </tr>\n",
       "    <tr>\n",
       "      <th>1</th>\n",
       "      <td>2</td>\n",
       "      <td>1</td>\n",
       "    </tr>\n",
       "    <tr>\n",
       "      <th>2</th>\n",
       "      <td>3</td>\n",
       "      <td>3</td>\n",
       "    </tr>\n",
       "    <tr>\n",
       "      <th>3</th>\n",
       "      <td>4</td>\n",
       "      <td>6</td>\n",
       "    </tr>\n",
       "    <tr>\n",
       "      <th>4</th>\n",
       "      <td>5</td>\n",
       "      <td>9</td>\n",
       "    </tr>\n",
       "    <tr>\n",
       "      <th>5</th>\n",
       "      <td>6</td>\n",
       "      <td>11</td>\n",
       "    </tr>\n",
       "    <tr>\n",
       "      <th>6</th>\n",
       "      <td>7</td>\n",
       "      <td>13</td>\n",
       "    </tr>\n",
       "    <tr>\n",
       "      <th>7</th>\n",
       "      <td>8</td>\n",
       "      <td>15</td>\n",
       "    </tr>\n",
       "    <tr>\n",
       "      <th>8</th>\n",
       "      <td>9</td>\n",
       "      <td>17</td>\n",
       "    </tr>\n",
       "    <tr>\n",
       "      <th>9</th>\n",
       "      <td>10</td>\n",
       "      <td>20</td>\n",
       "    </tr>\n",
       "  </tbody>\n",
       "</table>\n",
       "</div>"
      ],
      "text/plain": [
       "   Input  OutPut\n",
       "0      1       2\n",
       "1      2       1\n",
       "2      3       3\n",
       "3      4       6\n",
       "4      5       9\n",
       "5      6      11\n",
       "6      7      13\n",
       "7      8      15\n",
       "8      9      17\n",
       "9     10      20"
      ]
     },
     "execution_count": 7,
     "metadata": {},
     "output_type": "execute_result"
    }
   ],
   "source": [
    "Data"
   ]
  },
  {
   "cell_type": "code",
   "execution_count": 10,
   "id": "f30cfd1c",
   "metadata": {},
   "outputs": [
    {
     "data": {
      "text/html": [
       "<div>\n",
       "<style scoped>\n",
       "    .dataframe tbody tr th:only-of-type {\n",
       "        vertical-align: middle;\n",
       "    }\n",
       "\n",
       "    .dataframe tbody tr th {\n",
       "        vertical-align: top;\n",
       "    }\n",
       "\n",
       "    .dataframe thead th {\n",
       "        text-align: right;\n",
       "    }\n",
       "</style>\n",
       "<table border=\"1\" class=\"dataframe\">\n",
       "  <thead>\n",
       "    <tr style=\"text-align: right;\">\n",
       "      <th></th>\n",
       "      <th>Input</th>\n",
       "      <th>OutPut</th>\n",
       "    </tr>\n",
       "  </thead>\n",
       "  <tbody>\n",
       "    <tr>\n",
       "      <th>Input</th>\n",
       "      <td>1.000000</td>\n",
       "      <td>0.989938</td>\n",
       "    </tr>\n",
       "    <tr>\n",
       "      <th>OutPut</th>\n",
       "      <td>0.989938</td>\n",
       "      <td>1.000000</td>\n",
       "    </tr>\n",
       "  </tbody>\n",
       "</table>\n",
       "</div>"
      ],
      "text/plain": [
       "           Input    OutPut\n",
       "Input   1.000000  0.989938\n",
       "OutPut  0.989938  1.000000"
      ]
     },
     "execution_count": 10,
     "metadata": {},
     "output_type": "execute_result"
    }
   ],
   "source": [
    "Data.corr()"
   ]
  },
  {
   "cell_type": "markdown",
   "id": "576beede",
   "metadata": {},
   "source": [
    "### Mean and Std "
   ]
  },
  {
   "cell_type": "code",
   "execution_count": 8,
   "id": "3eb52725",
   "metadata": {},
   "outputs": [],
   "source": [
    "Xmean=X_IV.mean()\n",
    "Ymean=Y_DV.mean()"
   ]
  },
  {
   "cell_type": "code",
   "execution_count": 9,
   "id": "7d8441c8",
   "metadata": {},
   "outputs": [
    {
     "name": "stdout",
     "output_type": "stream",
     "text": [
      "The mean of X is 5.5 and Y is 9.7\n"
     ]
    }
   ],
   "source": [
    "print(f\"The mean of X is {Xmean} and Y is {Ymean}\")"
   ]
  },
  {
   "cell_type": "markdown",
   "id": "70c85357",
   "metadata": {},
   "source": [
    "### Deviation from Mean X-Xmean,Y-Ymean"
   ]
  },
  {
   "cell_type": "code",
   "execution_count": 11,
   "id": "8d7d11ea",
   "metadata": {},
   "outputs": [],
   "source": [
    "Data[\"X-Xmean\"]=X_IV-Xmean\n",
    "Data[\"Y-Ymean\"]=Y_DV-Ymean"
   ]
  },
  {
   "cell_type": "code",
   "execution_count": 12,
   "id": "ecf1bda0",
   "metadata": {},
   "outputs": [
    {
     "data": {
      "text/html": [
       "<div>\n",
       "<style scoped>\n",
       "    .dataframe tbody tr th:only-of-type {\n",
       "        vertical-align: middle;\n",
       "    }\n",
       "\n",
       "    .dataframe tbody tr th {\n",
       "        vertical-align: top;\n",
       "    }\n",
       "\n",
       "    .dataframe thead th {\n",
       "        text-align: right;\n",
       "    }\n",
       "</style>\n",
       "<table border=\"1\" class=\"dataframe\">\n",
       "  <thead>\n",
       "    <tr style=\"text-align: right;\">\n",
       "      <th></th>\n",
       "      <th>Input</th>\n",
       "      <th>OutPut</th>\n",
       "      <th>X-Xmean</th>\n",
       "      <th>Y-Ymean</th>\n",
       "    </tr>\n",
       "  </thead>\n",
       "  <tbody>\n",
       "    <tr>\n",
       "      <th>0</th>\n",
       "      <td>1</td>\n",
       "      <td>2</td>\n",
       "      <td>-4.5</td>\n",
       "      <td>-7.7</td>\n",
       "    </tr>\n",
       "    <tr>\n",
       "      <th>1</th>\n",
       "      <td>2</td>\n",
       "      <td>1</td>\n",
       "      <td>-3.5</td>\n",
       "      <td>-8.7</td>\n",
       "    </tr>\n",
       "    <tr>\n",
       "      <th>2</th>\n",
       "      <td>3</td>\n",
       "      <td>3</td>\n",
       "      <td>-2.5</td>\n",
       "      <td>-6.7</td>\n",
       "    </tr>\n",
       "    <tr>\n",
       "      <th>3</th>\n",
       "      <td>4</td>\n",
       "      <td>6</td>\n",
       "      <td>-1.5</td>\n",
       "      <td>-3.7</td>\n",
       "    </tr>\n",
       "    <tr>\n",
       "      <th>4</th>\n",
       "      <td>5</td>\n",
       "      <td>9</td>\n",
       "      <td>-0.5</td>\n",
       "      <td>-0.7</td>\n",
       "    </tr>\n",
       "    <tr>\n",
       "      <th>5</th>\n",
       "      <td>6</td>\n",
       "      <td>11</td>\n",
       "      <td>0.5</td>\n",
       "      <td>1.3</td>\n",
       "    </tr>\n",
       "    <tr>\n",
       "      <th>6</th>\n",
       "      <td>7</td>\n",
       "      <td>13</td>\n",
       "      <td>1.5</td>\n",
       "      <td>3.3</td>\n",
       "    </tr>\n",
       "    <tr>\n",
       "      <th>7</th>\n",
       "      <td>8</td>\n",
       "      <td>15</td>\n",
       "      <td>2.5</td>\n",
       "      <td>5.3</td>\n",
       "    </tr>\n",
       "    <tr>\n",
       "      <th>8</th>\n",
       "      <td>9</td>\n",
       "      <td>17</td>\n",
       "      <td>3.5</td>\n",
       "      <td>7.3</td>\n",
       "    </tr>\n",
       "    <tr>\n",
       "      <th>9</th>\n",
       "      <td>10</td>\n",
       "      <td>20</td>\n",
       "      <td>4.5</td>\n",
       "      <td>10.3</td>\n",
       "    </tr>\n",
       "  </tbody>\n",
       "</table>\n",
       "</div>"
      ],
      "text/plain": [
       "   Input  OutPut  X-Xmean  Y-Ymean\n",
       "0      1       2     -4.5     -7.7\n",
       "1      2       1     -3.5     -8.7\n",
       "2      3       3     -2.5     -6.7\n",
       "3      4       6     -1.5     -3.7\n",
       "4      5       9     -0.5     -0.7\n",
       "5      6      11      0.5      1.3\n",
       "6      7      13      1.5      3.3\n",
       "7      8      15      2.5      5.3\n",
       "8      9      17      3.5      7.3\n",
       "9     10      20      4.5     10.3"
      ]
     },
     "execution_count": 12,
     "metadata": {},
     "output_type": "execute_result"
    }
   ],
   "source": [
    "Data"
   ]
  },
  {
   "cell_type": "markdown",
   "id": "3ae40d92",
   "metadata": {},
   "source": [
    "### Covariance"
   ]
  },
  {
   "cell_type": "code",
   "execution_count": null,
   "id": "eba56986",
   "metadata": {},
   "outputs": [],
   "source": [
    "##(X-Xmean)*(Y-Ymean)"
   ]
  },
  {
   "cell_type": "code",
   "execution_count": 13,
   "id": "039d8dab",
   "metadata": {},
   "outputs": [],
   "source": [
    "Data[\"Covariance\"]=(X_IV-Xmean)*(Y_DV-Ymean)"
   ]
  },
  {
   "cell_type": "code",
   "execution_count": 14,
   "id": "f19a8198",
   "metadata": {},
   "outputs": [
    {
     "data": {
      "text/html": [
       "<div>\n",
       "<style scoped>\n",
       "    .dataframe tbody tr th:only-of-type {\n",
       "        vertical-align: middle;\n",
       "    }\n",
       "\n",
       "    .dataframe tbody tr th {\n",
       "        vertical-align: top;\n",
       "    }\n",
       "\n",
       "    .dataframe thead th {\n",
       "        text-align: right;\n",
       "    }\n",
       "</style>\n",
       "<table border=\"1\" class=\"dataframe\">\n",
       "  <thead>\n",
       "    <tr style=\"text-align: right;\">\n",
       "      <th></th>\n",
       "      <th>Input</th>\n",
       "      <th>OutPut</th>\n",
       "      <th>X-Xmean</th>\n",
       "      <th>Y-Ymean</th>\n",
       "      <th>Covariance</th>\n",
       "    </tr>\n",
       "  </thead>\n",
       "  <tbody>\n",
       "    <tr>\n",
       "      <th>0</th>\n",
       "      <td>1</td>\n",
       "      <td>2</td>\n",
       "      <td>-4.5</td>\n",
       "      <td>-7.7</td>\n",
       "      <td>34.65</td>\n",
       "    </tr>\n",
       "    <tr>\n",
       "      <th>1</th>\n",
       "      <td>2</td>\n",
       "      <td>1</td>\n",
       "      <td>-3.5</td>\n",
       "      <td>-8.7</td>\n",
       "      <td>30.45</td>\n",
       "    </tr>\n",
       "    <tr>\n",
       "      <th>2</th>\n",
       "      <td>3</td>\n",
       "      <td>3</td>\n",
       "      <td>-2.5</td>\n",
       "      <td>-6.7</td>\n",
       "      <td>16.75</td>\n",
       "    </tr>\n",
       "    <tr>\n",
       "      <th>3</th>\n",
       "      <td>4</td>\n",
       "      <td>6</td>\n",
       "      <td>-1.5</td>\n",
       "      <td>-3.7</td>\n",
       "      <td>5.55</td>\n",
       "    </tr>\n",
       "    <tr>\n",
       "      <th>4</th>\n",
       "      <td>5</td>\n",
       "      <td>9</td>\n",
       "      <td>-0.5</td>\n",
       "      <td>-0.7</td>\n",
       "      <td>0.35</td>\n",
       "    </tr>\n",
       "    <tr>\n",
       "      <th>5</th>\n",
       "      <td>6</td>\n",
       "      <td>11</td>\n",
       "      <td>0.5</td>\n",
       "      <td>1.3</td>\n",
       "      <td>0.65</td>\n",
       "    </tr>\n",
       "    <tr>\n",
       "      <th>6</th>\n",
       "      <td>7</td>\n",
       "      <td>13</td>\n",
       "      <td>1.5</td>\n",
       "      <td>3.3</td>\n",
       "      <td>4.95</td>\n",
       "    </tr>\n",
       "    <tr>\n",
       "      <th>7</th>\n",
       "      <td>8</td>\n",
       "      <td>15</td>\n",
       "      <td>2.5</td>\n",
       "      <td>5.3</td>\n",
       "      <td>13.25</td>\n",
       "    </tr>\n",
       "    <tr>\n",
       "      <th>8</th>\n",
       "      <td>9</td>\n",
       "      <td>17</td>\n",
       "      <td>3.5</td>\n",
       "      <td>7.3</td>\n",
       "      <td>25.55</td>\n",
       "    </tr>\n",
       "    <tr>\n",
       "      <th>9</th>\n",
       "      <td>10</td>\n",
       "      <td>20</td>\n",
       "      <td>4.5</td>\n",
       "      <td>10.3</td>\n",
       "      <td>46.35</td>\n",
       "    </tr>\n",
       "  </tbody>\n",
       "</table>\n",
       "</div>"
      ],
      "text/plain": [
       "   Input  OutPut  X-Xmean  Y-Ymean  Covariance\n",
       "0      1       2     -4.5     -7.7       34.65\n",
       "1      2       1     -3.5     -8.7       30.45\n",
       "2      3       3     -2.5     -6.7       16.75\n",
       "3      4       6     -1.5     -3.7        5.55\n",
       "4      5       9     -0.5     -0.7        0.35\n",
       "5      6      11      0.5      1.3        0.65\n",
       "6      7      13      1.5      3.3        4.95\n",
       "7      8      15      2.5      5.3       13.25\n",
       "8      9      17      3.5      7.3       25.55\n",
       "9     10      20      4.5     10.3       46.35"
      ]
     },
     "execution_count": 14,
     "metadata": {},
     "output_type": "execute_result"
    }
   ],
   "source": [
    "Data"
   ]
  },
  {
   "cell_type": "code",
   "execution_count": 15,
   "id": "35aab087",
   "metadata": {},
   "outputs": [],
   "source": [
    "#STD"
   ]
  },
  {
   "cell_type": "code",
   "execution_count": 16,
   "id": "e12049a8",
   "metadata": {},
   "outputs": [],
   "source": [
    "XStd=sum(np.square(X_IV-Xmean))"
   ]
  },
  {
   "cell_type": "code",
   "execution_count": 17,
   "id": "2b988c1e",
   "metadata": {},
   "outputs": [
    {
     "data": {
      "text/plain": [
       "array([82.5])"
      ]
     },
     "execution_count": 17,
     "metadata": {},
     "output_type": "execute_result"
    }
   ],
   "source": [
    "XStd"
   ]
  },
  {
   "cell_type": "markdown",
   "id": "a7f51d6f",
   "metadata": {},
   "source": [
    "### coefficient or Slop (m) and Bias or Intercept (c)"
   ]
  },
  {
   "cell_type": "code",
   "execution_count": 18,
   "id": "734c5a30",
   "metadata": {},
   "outputs": [],
   "source": [
    "m=sum(Data[\"Covariance\"])/XStd\n",
    "c=Ymean-m*Xmean"
   ]
  },
  {
   "cell_type": "code",
   "execution_count": 19,
   "id": "20928bd8",
   "metadata": {},
   "outputs": [
    {
     "name": "stdout",
     "output_type": "stream",
     "text": [
      " The Value of M is [2.16363636] and The Value of c is [-2.2]\n"
     ]
    }
   ],
   "source": [
    "print(f\" The Value of M is {m} and The Value of c is {c}\")"
   ]
  },
  {
   "cell_type": "markdown",
   "id": "26b7ee44",
   "metadata": {},
   "source": [
    "### Model Equation Y=M*x+c"
   ]
  },
  {
   "cell_type": "markdown",
   "id": "32022bc7",
   "metadata": {},
   "source": [
    "#Predicted Value"
   ]
  },
  {
   "cell_type": "code",
   "execution_count": 20,
   "id": "20933dda",
   "metadata": {},
   "outputs": [],
   "source": [
    "Yp=m*X_IV+c"
   ]
  },
  {
   "cell_type": "code",
   "execution_count": 21,
   "id": "3f653bc6",
   "metadata": {},
   "outputs": [
    {
     "data": {
      "text/plain": [
       "array([[-0.03636364],\n",
       "       [ 2.12727273],\n",
       "       [ 4.29090909],\n",
       "       [ 6.45454545],\n",
       "       [ 8.61818182],\n",
       "       [10.78181818],\n",
       "       [12.94545455],\n",
       "       [15.10909091],\n",
       "       [17.27272727],\n",
       "       [19.43636364]])"
      ]
     },
     "execution_count": 21,
     "metadata": {},
     "output_type": "execute_result"
    }
   ],
   "source": [
    "Yp"
   ]
  },
  {
   "cell_type": "code",
   "execution_count": 22,
   "id": "19b78581",
   "metadata": {},
   "outputs": [],
   "source": [
    "Data[\"Yp\"]=Yp"
   ]
  },
  {
   "cell_type": "code",
   "execution_count": 23,
   "id": "d592a8b8",
   "metadata": {},
   "outputs": [
    {
     "data": {
      "text/html": [
       "<div>\n",
       "<style scoped>\n",
       "    .dataframe tbody tr th:only-of-type {\n",
       "        vertical-align: middle;\n",
       "    }\n",
       "\n",
       "    .dataframe tbody tr th {\n",
       "        vertical-align: top;\n",
       "    }\n",
       "\n",
       "    .dataframe thead th {\n",
       "        text-align: right;\n",
       "    }\n",
       "</style>\n",
       "<table border=\"1\" class=\"dataframe\">\n",
       "  <thead>\n",
       "    <tr style=\"text-align: right;\">\n",
       "      <th></th>\n",
       "      <th>Input</th>\n",
       "      <th>OutPut</th>\n",
       "      <th>X-Xmean</th>\n",
       "      <th>Y-Ymean</th>\n",
       "      <th>Covariance</th>\n",
       "      <th>Yp</th>\n",
       "    </tr>\n",
       "  </thead>\n",
       "  <tbody>\n",
       "    <tr>\n",
       "      <th>0</th>\n",
       "      <td>1</td>\n",
       "      <td>2</td>\n",
       "      <td>-4.5</td>\n",
       "      <td>-7.7</td>\n",
       "      <td>34.65</td>\n",
       "      <td>-0.036364</td>\n",
       "    </tr>\n",
       "    <tr>\n",
       "      <th>1</th>\n",
       "      <td>2</td>\n",
       "      <td>1</td>\n",
       "      <td>-3.5</td>\n",
       "      <td>-8.7</td>\n",
       "      <td>30.45</td>\n",
       "      <td>2.127273</td>\n",
       "    </tr>\n",
       "    <tr>\n",
       "      <th>2</th>\n",
       "      <td>3</td>\n",
       "      <td>3</td>\n",
       "      <td>-2.5</td>\n",
       "      <td>-6.7</td>\n",
       "      <td>16.75</td>\n",
       "      <td>4.290909</td>\n",
       "    </tr>\n",
       "    <tr>\n",
       "      <th>3</th>\n",
       "      <td>4</td>\n",
       "      <td>6</td>\n",
       "      <td>-1.5</td>\n",
       "      <td>-3.7</td>\n",
       "      <td>5.55</td>\n",
       "      <td>6.454545</td>\n",
       "    </tr>\n",
       "    <tr>\n",
       "      <th>4</th>\n",
       "      <td>5</td>\n",
       "      <td>9</td>\n",
       "      <td>-0.5</td>\n",
       "      <td>-0.7</td>\n",
       "      <td>0.35</td>\n",
       "      <td>8.618182</td>\n",
       "    </tr>\n",
       "    <tr>\n",
       "      <th>5</th>\n",
       "      <td>6</td>\n",
       "      <td>11</td>\n",
       "      <td>0.5</td>\n",
       "      <td>1.3</td>\n",
       "      <td>0.65</td>\n",
       "      <td>10.781818</td>\n",
       "    </tr>\n",
       "    <tr>\n",
       "      <th>6</th>\n",
       "      <td>7</td>\n",
       "      <td>13</td>\n",
       "      <td>1.5</td>\n",
       "      <td>3.3</td>\n",
       "      <td>4.95</td>\n",
       "      <td>12.945455</td>\n",
       "    </tr>\n",
       "    <tr>\n",
       "      <th>7</th>\n",
       "      <td>8</td>\n",
       "      <td>15</td>\n",
       "      <td>2.5</td>\n",
       "      <td>5.3</td>\n",
       "      <td>13.25</td>\n",
       "      <td>15.109091</td>\n",
       "    </tr>\n",
       "    <tr>\n",
       "      <th>8</th>\n",
       "      <td>9</td>\n",
       "      <td>17</td>\n",
       "      <td>3.5</td>\n",
       "      <td>7.3</td>\n",
       "      <td>25.55</td>\n",
       "      <td>17.272727</td>\n",
       "    </tr>\n",
       "    <tr>\n",
       "      <th>9</th>\n",
       "      <td>10</td>\n",
       "      <td>20</td>\n",
       "      <td>4.5</td>\n",
       "      <td>10.3</td>\n",
       "      <td>46.35</td>\n",
       "      <td>19.436364</td>\n",
       "    </tr>\n",
       "  </tbody>\n",
       "</table>\n",
       "</div>"
      ],
      "text/plain": [
       "   Input  OutPut  X-Xmean  Y-Ymean  Covariance         Yp\n",
       "0      1       2     -4.5     -7.7       34.65  -0.036364\n",
       "1      2       1     -3.5     -8.7       30.45   2.127273\n",
       "2      3       3     -2.5     -6.7       16.75   4.290909\n",
       "3      4       6     -1.5     -3.7        5.55   6.454545\n",
       "4      5       9     -0.5     -0.7        0.35   8.618182\n",
       "5      6      11      0.5      1.3        0.65  10.781818\n",
       "6      7      13      1.5      3.3        4.95  12.945455\n",
       "7      8      15      2.5      5.3       13.25  15.109091\n",
       "8      9      17      3.5      7.3       25.55  17.272727\n",
       "9     10      20      4.5     10.3       46.35  19.436364"
      ]
     },
     "execution_count": 23,
     "metadata": {},
     "output_type": "execute_result"
    }
   ],
   "source": [
    "Data"
   ]
  },
  {
   "cell_type": "markdown",
   "id": "7472b1b8",
   "metadata": {},
   "source": [
    "### Error [Actual-Predicted]"
   ]
  },
  {
   "cell_type": "code",
   "execution_count": 24,
   "id": "bef60711",
   "metadata": {},
   "outputs": [],
   "source": [
    "Error=np.square(Data[\"Yp\"]-Data[\"OutPut\"])"
   ]
  },
  {
   "cell_type": "code",
   "execution_count": 25,
   "id": "32e24784",
   "metadata": {},
   "outputs": [],
   "source": [
    "Data[\"Error\"]=Error"
   ]
  },
  {
   "cell_type": "code",
   "execution_count": 26,
   "id": "7123d49b",
   "metadata": {},
   "outputs": [
    {
     "data": {
      "text/html": [
       "<div>\n",
       "<style scoped>\n",
       "    .dataframe tbody tr th:only-of-type {\n",
       "        vertical-align: middle;\n",
       "    }\n",
       "\n",
       "    .dataframe tbody tr th {\n",
       "        vertical-align: top;\n",
       "    }\n",
       "\n",
       "    .dataframe thead th {\n",
       "        text-align: right;\n",
       "    }\n",
       "</style>\n",
       "<table border=\"1\" class=\"dataframe\">\n",
       "  <thead>\n",
       "    <tr style=\"text-align: right;\">\n",
       "      <th></th>\n",
       "      <th>Input</th>\n",
       "      <th>OutPut</th>\n",
       "      <th>X-Xmean</th>\n",
       "      <th>Y-Ymean</th>\n",
       "      <th>Covariance</th>\n",
       "      <th>Yp</th>\n",
       "      <th>Error</th>\n",
       "    </tr>\n",
       "  </thead>\n",
       "  <tbody>\n",
       "    <tr>\n",
       "      <th>0</th>\n",
       "      <td>1</td>\n",
       "      <td>2</td>\n",
       "      <td>-4.5</td>\n",
       "      <td>-7.7</td>\n",
       "      <td>34.65</td>\n",
       "      <td>-0.036364</td>\n",
       "      <td>4.146777</td>\n",
       "    </tr>\n",
       "    <tr>\n",
       "      <th>1</th>\n",
       "      <td>2</td>\n",
       "      <td>1</td>\n",
       "      <td>-3.5</td>\n",
       "      <td>-8.7</td>\n",
       "      <td>30.45</td>\n",
       "      <td>2.127273</td>\n",
       "      <td>1.270744</td>\n",
       "    </tr>\n",
       "    <tr>\n",
       "      <th>2</th>\n",
       "      <td>3</td>\n",
       "      <td>3</td>\n",
       "      <td>-2.5</td>\n",
       "      <td>-6.7</td>\n",
       "      <td>16.75</td>\n",
       "      <td>4.290909</td>\n",
       "      <td>1.666446</td>\n",
       "    </tr>\n",
       "    <tr>\n",
       "      <th>3</th>\n",
       "      <td>4</td>\n",
       "      <td>6</td>\n",
       "      <td>-1.5</td>\n",
       "      <td>-3.7</td>\n",
       "      <td>5.55</td>\n",
       "      <td>6.454545</td>\n",
       "      <td>0.206612</td>\n",
       "    </tr>\n",
       "    <tr>\n",
       "      <th>4</th>\n",
       "      <td>5</td>\n",
       "      <td>9</td>\n",
       "      <td>-0.5</td>\n",
       "      <td>-0.7</td>\n",
       "      <td>0.35</td>\n",
       "      <td>8.618182</td>\n",
       "      <td>0.145785</td>\n",
       "    </tr>\n",
       "    <tr>\n",
       "      <th>5</th>\n",
       "      <td>6</td>\n",
       "      <td>11</td>\n",
       "      <td>0.5</td>\n",
       "      <td>1.3</td>\n",
       "      <td>0.65</td>\n",
       "      <td>10.781818</td>\n",
       "      <td>0.047603</td>\n",
       "    </tr>\n",
       "    <tr>\n",
       "      <th>6</th>\n",
       "      <td>7</td>\n",
       "      <td>13</td>\n",
       "      <td>1.5</td>\n",
       "      <td>3.3</td>\n",
       "      <td>4.95</td>\n",
       "      <td>12.945455</td>\n",
       "      <td>0.002975</td>\n",
       "    </tr>\n",
       "    <tr>\n",
       "      <th>7</th>\n",
       "      <td>8</td>\n",
       "      <td>15</td>\n",
       "      <td>2.5</td>\n",
       "      <td>5.3</td>\n",
       "      <td>13.25</td>\n",
       "      <td>15.109091</td>\n",
       "      <td>0.011901</td>\n",
       "    </tr>\n",
       "    <tr>\n",
       "      <th>8</th>\n",
       "      <td>9</td>\n",
       "      <td>17</td>\n",
       "      <td>3.5</td>\n",
       "      <td>7.3</td>\n",
       "      <td>25.55</td>\n",
       "      <td>17.272727</td>\n",
       "      <td>0.074380</td>\n",
       "    </tr>\n",
       "    <tr>\n",
       "      <th>9</th>\n",
       "      <td>10</td>\n",
       "      <td>20</td>\n",
       "      <td>4.5</td>\n",
       "      <td>10.3</td>\n",
       "      <td>46.35</td>\n",
       "      <td>19.436364</td>\n",
       "      <td>0.317686</td>\n",
       "    </tr>\n",
       "  </tbody>\n",
       "</table>\n",
       "</div>"
      ],
      "text/plain": [
       "   Input  OutPut  X-Xmean  Y-Ymean  Covariance         Yp     Error\n",
       "0      1       2     -4.5     -7.7       34.65  -0.036364  4.146777\n",
       "1      2       1     -3.5     -8.7       30.45   2.127273  1.270744\n",
       "2      3       3     -2.5     -6.7       16.75   4.290909  1.666446\n",
       "3      4       6     -1.5     -3.7        5.55   6.454545  0.206612\n",
       "4      5       9     -0.5     -0.7        0.35   8.618182  0.145785\n",
       "5      6      11      0.5      1.3        0.65  10.781818  0.047603\n",
       "6      7      13      1.5      3.3        4.95  12.945455  0.002975\n",
       "7      8      15      2.5      5.3       13.25  15.109091  0.011901\n",
       "8      9      17      3.5      7.3       25.55  17.272727  0.074380\n",
       "9     10      20      4.5     10.3       46.35  19.436364  0.317686"
      ]
     },
     "execution_count": 26,
     "metadata": {},
     "output_type": "execute_result"
    }
   ],
   "source": [
    "Data"
   ]
  },
  {
   "cell_type": "markdown",
   "id": "c78eb81c",
   "metadata": {},
   "source": [
    "### MSE"
   ]
  },
  {
   "cell_type": "code",
   "execution_count": 27,
   "id": "e2614fef",
   "metadata": {},
   "outputs": [
    {
     "name": "stdout",
     "output_type": "stream",
     "text": [
      "MSE IS 0.8883078909313532\n"
     ]
    }
   ],
   "source": [
    "MSE=np.sqrt(Data[\"Error\"].sum()/len(Data))\n",
    "print(f\"MSE IS {MSE}\")"
   ]
  },
  {
   "cell_type": "markdown",
   "id": "579326d6",
   "metadata": {},
   "source": [
    "# Ya vs Yp Graph"
   ]
  },
  {
   "cell_type": "code",
   "execution_count": 28,
   "id": "39cb6143",
   "metadata": {},
   "outputs": [
    {
     "data": {
      "image/png": "[encoded data removed]",
      "text/plain": [
       "<Figure size 640x480 with 1 Axes>"
      ]
     },
     "metadata": {},
     "output_type": "display_data"
    }
   ],
   "source": [
    "plt.plot(X_IV,Y_DV,\"*r\")\n",
    "plt.plot(X_IV,Data[\"Yp\"],'^g')\n",
    "plt.plot(X_IV,Data[\"Yp\"],'b')\n",
    "plt.xlabel(\"X...\")\n",
    "plt.ylabel(\"y.....\")\n",
    "plt.title(\"XvsY\")\n",
    "plt.legend([\"Ya\",\"Yp\"])\n",
    "plt.show()"
   ]
  },
  {
   "cell_type": "markdown",
   "id": "47d0a431",
   "metadata": {},
   "source": [
    "### Using Machine Learning Package  Sklean"
   ]
  },
  {
   "cell_type": "code",
   "execution_count": 29,
   "id": "59a8b748",
   "metadata": {},
   "outputs": [],
   "source": [
    "from sklearn.linear_model import LinearRegression"
   ]
  },
  {
   "cell_type": "code",
   "execution_count": 34,
   "id": "31c48412",
   "metadata": {},
   "outputs": [],
   "source": [
    "trainer=LinearRegression()"
   ]
  },
  {
   "cell_type": "code",
   "execution_count": 35,
   "id": "70edde2f",
   "metadata": {},
   "outputs": [
    {
     "data": {
      "text/plain": [
       "['__abstractmethods__',\n",
       " '__annotations__',\n",
       " '__class__',\n",
       " '__delattr__',\n",
       " '__dict__',\n",
       " '__dir__',\n",
       " '__doc__',\n",
       " '__eq__',\n",
       " '__format__',\n",
       " '__ge__',\n",
       " '__getattribute__',\n",
       " '__getstate__',\n",
       " '__gt__',\n",
       " '__hash__',\n",
       " '__init__',\n",
       " '__init_subclass__',\n",
       " '__le__',\n",
       " '__lt__',\n",
       " '__module__',\n",
       " '__ne__',\n",
       " '__new__',\n",
       " '__reduce__',\n",
       " '__reduce_ex__',\n",
       " '__repr__',\n",
       " '__setattr__',\n",
       " '__setstate__',\n",
       " '__sizeof__',\n",
       " '__str__',\n",
       " '__subclasshook__',\n",
       " '__weakref__',\n",
       " '_abc_impl',\n",
       " '_check_feature_names',\n",
       " '_check_n_features',\n",
       " '_decision_function',\n",
       " '_estimator_type',\n",
       " '_get_param_names',\n",
       " '_get_tags',\n",
       " '_more_tags',\n",
       " '_parameter_constraints',\n",
       " '_repr_html_',\n",
       " '_repr_html_inner',\n",
       " '_repr_mimebundle_',\n",
       " '_set_intercept',\n",
       " '_validate_data',\n",
       " '_validate_params',\n",
       " 'copy_X',\n",
       " 'fit',\n",
       " 'fit_intercept',\n",
       " 'get_params',\n",
       " 'n_jobs',\n",
       " 'positive',\n",
       " 'predict',\n",
       " 'score',\n",
       " 'set_params']"
      ]
     },
     "execution_count": 35,
     "metadata": {},
     "output_type": "execute_result"
    }
   ],
   "source": [
    "dir(learner)"
   ]
  },
  {
   "cell_type": "markdown",
   "id": "036f0872",
   "metadata": {},
   "source": [
    "### Training "
   ]
  },
  {
   "cell_type": "code",
   "execution_count": 36,
   "id": "0f0d2524",
   "metadata": {},
   "outputs": [],
   "source": [
    "leraner=trainer.fit(X_IV,Y_DV)"
   ]
  },
  {
   "cell_type": "code",
   "execution_count": 42,
   "id": "f4dee792",
   "metadata": {},
   "outputs": [],
   "source": [
    "Lr_m=leraner.coef_"
   ]
  },
  {
   "cell_type": "code",
   "execution_count": 43,
   "id": "fc4d03c3",
   "metadata": {},
   "outputs": [],
   "source": [
    "Lr_c=trainer.intercept_"
   ]
  },
  {
   "cell_type": "code",
   "execution_count": 44,
   "id": "8b96e26d",
   "metadata": {},
   "outputs": [
    {
     "name": "stdout",
     "output_type": "stream",
     "text": [
      "m is [[2.16363636]] and c  [-2.2] is by ML\n"
     ]
    }
   ],
   "source": [
    "print(f\"m is {Lr_m} and c  {Lr_c} is by ML\")"
   ]
  },
  {
   "cell_type": "code",
   "execution_count": 45,
   "id": "922ef088",
   "metadata": {},
   "outputs": [],
   "source": [
    "Lr_Yp=trainer.predict(X_IV)"
   ]
  },
  {
   "cell_type": "code",
   "execution_count": 46,
   "id": "c875cbb5",
   "metadata": {},
   "outputs": [
    {
     "data": {
      "text/plain": [
       "array([[-0.03636364],\n",
       "       [ 2.12727273],\n",
       "       [ 4.29090909],\n",
       "       [ 6.45454545],\n",
       "       [ 8.61818182],\n",
       "       [10.78181818],\n",
       "       [12.94545455],\n",
       "       [15.10909091],\n",
       "       [17.27272727],\n",
       "       [19.43636364]])"
      ]
     },
     "execution_count": 46,
     "metadata": {},
     "output_type": "execute_result"
    }
   ],
   "source": [
    "Lr_Yp"
   ]
  },
  {
   "cell_type": "code",
   "execution_count": 47,
   "id": "2f667916",
   "metadata": {},
   "outputs": [],
   "source": [
    "Data[\"Yp_LR_Model\"]=Lr_Yp"
   ]
  },
  {
   "cell_type": "code",
   "execution_count": 48,
   "id": "0b058b8f",
   "metadata": {},
   "outputs": [
    {
     "data": {
      "text/html": [
       "<div>\n",
       "<style scoped>\n",
       "    .dataframe tbody tr th:only-of-type {\n",
       "        vertical-align: middle;\n",
       "    }\n",
       "\n",
       "    .dataframe tbody tr th {\n",
       "        vertical-align: top;\n",
       "    }\n",
       "\n",
       "    .dataframe thead th {\n",
       "        text-align: right;\n",
       "    }\n",
       "</style>\n",
       "<table border=\"1\" class=\"dataframe\">\n",
       "  <thead>\n",
       "    <tr style=\"text-align: right;\">\n",
       "      <th></th>\n",
       "      <th>Input</th>\n",
       "      <th>OutPut</th>\n",
       "      <th>X-Xmean</th>\n",
       "      <th>Y-Ymean</th>\n",
       "      <th>Covariance</th>\n",
       "      <th>Yp</th>\n",
       "      <th>Error</th>\n",
       "      <th>Yp_LR_Model</th>\n",
       "    </tr>\n",
       "  </thead>\n",
       "  <tbody>\n",
       "    <tr>\n",
       "      <th>0</th>\n",
       "      <td>1</td>\n",
       "      <td>2</td>\n",
       "      <td>-4.5</td>\n",
       "      <td>-7.7</td>\n",
       "      <td>34.65</td>\n",
       "      <td>-0.036364</td>\n",
       "      <td>4.146777</td>\n",
       "      <td>-0.036364</td>\n",
       "    </tr>\n",
       "    <tr>\n",
       "      <th>1</th>\n",
       "      <td>2</td>\n",
       "      <td>1</td>\n",
       "      <td>-3.5</td>\n",
       "      <td>-8.7</td>\n",
       "      <td>30.45</td>\n",
       "      <td>2.127273</td>\n",
       "      <td>1.270744</td>\n",
       "      <td>2.127273</td>\n",
       "    </tr>\n",
       "    <tr>\n",
       "      <th>2</th>\n",
       "      <td>3</td>\n",
       "      <td>3</td>\n",
       "      <td>-2.5</td>\n",
       "      <td>-6.7</td>\n",
       "      <td>16.75</td>\n",
       "      <td>4.290909</td>\n",
       "      <td>1.666446</td>\n",
       "      <td>4.290909</td>\n",
       "    </tr>\n",
       "    <tr>\n",
       "      <th>3</th>\n",
       "      <td>4</td>\n",
       "      <td>6</td>\n",
       "      <td>-1.5</td>\n",
       "      <td>-3.7</td>\n",
       "      <td>5.55</td>\n",
       "      <td>6.454545</td>\n",
       "      <td>0.206612</td>\n",
       "      <td>6.454545</td>\n",
       "    </tr>\n",
       "    <tr>\n",
       "      <th>4</th>\n",
       "      <td>5</td>\n",
       "      <td>9</td>\n",
       "      <td>-0.5</td>\n",
       "      <td>-0.7</td>\n",
       "      <td>0.35</td>\n",
       "      <td>8.618182</td>\n",
       "      <td>0.145785</td>\n",
       "      <td>8.618182</td>\n",
       "    </tr>\n",
       "    <tr>\n",
       "      <th>5</th>\n",
       "      <td>6</td>\n",
       "      <td>11</td>\n",
       "      <td>0.5</td>\n",
       "      <td>1.3</td>\n",
       "      <td>0.65</td>\n",
       "      <td>10.781818</td>\n",
       "      <td>0.047603</td>\n",
       "      <td>10.781818</td>\n",
       "    </tr>\n",
       "    <tr>\n",
       "      <th>6</th>\n",
       "      <td>7</td>\n",
       "      <td>13</td>\n",
       "      <td>1.5</td>\n",
       "      <td>3.3</td>\n",
       "      <td>4.95</td>\n",
       "      <td>12.945455</td>\n",
       "      <td>0.002975</td>\n",
       "      <td>12.945455</td>\n",
       "    </tr>\n",
       "    <tr>\n",
       "      <th>7</th>\n",
       "      <td>8</td>\n",
       "      <td>15</td>\n",
       "      <td>2.5</td>\n",
       "      <td>5.3</td>\n",
       "      <td>13.25</td>\n",
       "      <td>15.109091</td>\n",
       "      <td>0.011901</td>\n",
       "      <td>15.109091</td>\n",
       "    </tr>\n",
       "    <tr>\n",
       "      <th>8</th>\n",
       "      <td>9</td>\n",
       "      <td>17</td>\n",
       "      <td>3.5</td>\n",
       "      <td>7.3</td>\n",
       "      <td>25.55</td>\n",
       "      <td>17.272727</td>\n",
       "      <td>0.074380</td>\n",
       "      <td>17.272727</td>\n",
       "    </tr>\n",
       "    <tr>\n",
       "      <th>9</th>\n",
       "      <td>10</td>\n",
       "      <td>20</td>\n",
       "      <td>4.5</td>\n",
       "      <td>10.3</td>\n",
       "      <td>46.35</td>\n",
       "      <td>19.436364</td>\n",
       "      <td>0.317686</td>\n",
       "      <td>19.436364</td>\n",
       "    </tr>\n",
       "  </tbody>\n",
       "</table>\n",
       "</div>"
      ],
      "text/plain": [
       "   Input  OutPut  X-Xmean  Y-Ymean  Covariance         Yp     Error  \\\n",
       "0      1       2     -4.5     -7.7       34.65  -0.036364  4.146777   \n",
       "1      2       1     -3.5     -8.7       30.45   2.127273  1.270744   \n",
       "2      3       3     -2.5     -6.7       16.75   4.290909  1.666446   \n",
       "3      4       6     -1.5     -3.7        5.55   6.454545  0.206612   \n",
       "4      5       9     -0.5     -0.7        0.35   8.618182  0.145785   \n",
       "5      6      11      0.5      1.3        0.65  10.781818  0.047603   \n",
       "6      7      13      1.5      3.3        4.95  12.945455  0.002975   \n",
       "7      8      15      2.5      5.3       13.25  15.109091  0.011901   \n",
       "8      9      17      3.5      7.3       25.55  17.272727  0.074380   \n",
       "9     10      20      4.5     10.3       46.35  19.436364  0.317686   \n",
       "\n",
       "   Yp_LR_Model  \n",
       "0    -0.036364  \n",
       "1     2.127273  \n",
       "2     4.290909  \n",
       "3     6.454545  \n",
       "4     8.618182  \n",
       "5    10.781818  \n",
       "6    12.945455  \n",
       "7    15.109091  \n",
       "8    17.272727  \n",
       "9    19.436364  "
      ]
     },
     "execution_count": 48,
     "metadata": {},
     "output_type": "execute_result"
    }
   ],
   "source": [
    "Data"
   ]
  },
  {
   "cell_type": "markdown",
   "id": "b0ffc131",
   "metadata": {},
   "source": [
    "## Error By Package\n"
   ]
  },
  {
   "cell_type": "code",
   "execution_count": 49,
   "id": "34eb5ee5",
   "metadata": {},
   "outputs": [],
   "source": [
    "from sklearn.metrics import mean_squared_error"
   ]
  },
  {
   "cell_type": "code",
   "execution_count": 50,
   "id": "ef6b955f",
   "metadata": {},
   "outputs": [],
   "source": [
    "Error_Lr=mean_squared_error(Lr_Yp,Y_DV)"
   ]
  },
  {
   "cell_type": "code",
   "execution_count": 51,
   "id": "f912da6f",
   "metadata": {},
   "outputs": [
    {
     "data": {
      "text/plain": [
       "0.7890909090909094"
      ]
     },
     "execution_count": 51,
     "metadata": {},
     "output_type": "execute_result"
    }
   ],
   "source": [
    "Error_Lr"
   ]
  },
  {
   "cell_type": "code",
   "execution_count": null,
   "id": "b679de13",
   "metadata": {},
   "outputs": [],
   "source": []
  }
 ],
 "metadata": {
  "kernelspec": {
   "display_name": "Python 3 (ipykernel)",
   "language": "python",
   "name": "python3"
  },
  "language_info": {
   "codemirror_mode": {
    "name": "ipython",
    "version": 3
   },
   "file_extension": ".py",
   "mimetype": "text/x-python",
   "name": "python",
   "nbconvert_exporter": "python",
   "pygments_lexer": "ipython3",
   "version": "3.11.4"
  }
 },
 "nbformat": 4,
 "nbformat_minor": 5
}
