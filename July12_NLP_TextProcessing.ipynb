{
 "cells": [
  {
   "cell_type": "code",
   "execution_count": 1,
   "id": "308bd253",
   "metadata": {},
   "outputs": [],
   "source": [
    "import wikipedia\n",
    "import pandas as pd\n",
    "import numpy as np"
   ]
  },
  {
   "cell_type": "code",
   "execution_count": 3,
   "id": "e9abcc9b",
   "metadata": {},
   "outputs": [],
   "source": [
    "#dir(wikipedia)"
   ]
  },
  {
   "cell_type": "code",
   "execution_count": 8,
   "id": "03c19ebc",
   "metadata": {},
   "outputs": [
    {
     "data": {
      "text/plain": [
       "['Narendra Modi', 'Jashodaben Modi']"
      ]
     },
     "execution_count": 8,
     "metadata": {},
     "output_type": "execute_result"
    }
   ],
   "source": [
    "wikipedia.search(\"Modi\",2)"
   ]
  },
  {
   "cell_type": "code",
   "execution_count": 9,
   "id": "d1e460c2",
   "metadata": {},
   "outputs": [],
   "source": [
    "data_wiki=wikipedia.summary(\"indian\",sentences=2)"
   ]
  },
  {
   "cell_type": "code",
   "execution_count": 10,
   "id": "8fa788d2",
   "metadata": {},
   "outputs": [
    {
     "data": {
      "text/plain": [
       "\"India, officially the Republic of India (Hindi: Bhārat Gaṇarājya), is a country in South Asia. It is the seventh-largest country by area; the most populous country and the world's most populous democracy.\""
      ]
     },
     "execution_count": 10,
     "metadata": {},
     "output_type": "execute_result"
    }
   ],
   "source": [
    "data_wiki"
   ]
  },
  {
   "cell_type": "code",
   "execution_count": 11,
   "id": "f68af345",
   "metadata": {},
   "outputs": [],
   "source": [
    "data_page=wikipedia.page(\"Deep Learning\")"
   ]
  },
  {
   "cell_type": "code",
   "execution_count": 14,
   "id": "6a85a3e0",
   "metadata": {},
   "outputs": [
    {
     "data": {
      "text/plain": [
       "'https://en.wikipedia.org/wiki/Deep_learning'"
      ]
     },
     "execution_count": 14,
     "metadata": {},
     "output_type": "execute_result"
    }
   ],
   "source": [
    "data_page.url"
   ]
  },
  {
   "cell_type": "code",
   "execution_count": 15,
   "id": "37410576",
   "metadata": {},
   "outputs": [
    {
     "data": {
      "text/plain": [
       "'Deep learning'"
      ]
     },
     "execution_count": 15,
     "metadata": {},
     "output_type": "execute_result"
    }
   ],
   "source": [
    "data_page.title"
   ]
  },
  {
   "cell_type": "code",
   "execution_count": 16,
   "id": "3af0fc13",
   "metadata": {},
   "outputs": [
    {
     "data": {
      "text/plain": [
       "'Deep learning is part of a broader family of machine learning methods, which is based on artificial neural networks with representation learning. The adjective \"deep\" in deep learning refers to the use of multiple layers in the network. Methods used can be either supervised, semi-supervised or unsupervised.Deep-learning architectures such as deep neural networks, deep belief networks, deep reinforcement learning, recurrent neural networks, convolutional neural networks and transformers have been applied to fields including computer vision, speech recognition, natural language processing, machine translation, bioinformatics, drug design, medical image analysis, climate science, material inspection and board game programs, where they have produced results comparable to and in some cases surpassing human expert performance.Artificial neural networks (ANNs) were inspired by information processing and distributed communication nodes in biological systems. ANNs have various differences from biological brains.  Specifically, artificial neural networks tend to be static and symbolic, while the biological brain of most living organisms is dynamic (plastic) and analog.Discovery that deep neural network (with a nonpolynomial activation function with one hidden layer of unbounded width) is able to be can a universal classifier,  this is known as third wave of connectionism after a linear perceptron being shown unable to be one. In deep learning the layers are also permitted to be heterogeneous and to deviate widely from biologically informed models, for the sake of efficiency, trainability and understandability.'"
      ]
     },
     "execution_count": 16,
     "metadata": {},
     "output_type": "execute_result"
    }
   ],
   "source": [
    "data_page.summary"
   ]
  },
  {
   "cell_type": "code",
   "execution_count": 17,
   "id": "1e9abc82",
   "metadata": {},
   "outputs": [
    {
     "data": {
      "text/plain": [
       "['https://upload.wikimedia.org/wikipedia/commons/b/bb/AI-ML-DL.svg',\n",
       " 'https://upload.wikimedia.org/wikipedia/commons/1/1c/Artificial_intelligence_prompt_completion_by_dalle_mini.jpg',\n",
       " 'https://upload.wikimedia.org/wikipedia/commons/0/0e/Closed_Access_logo_transparent.svg',\n",
       " 'https://upload.wikimedia.org/wikipedia/commons/2/26/Deep_Learning.jpg',\n",
       " 'https://upload.wikimedia.org/wikipedia/commons/7/75/Jimmy_Wales_in_France%2C_with_the_style_of_Munch%27s_%22The_Scream%22_applied_using_neural_style_transfer.jpg',\n",
       " 'https://upload.wikimedia.org/wikipedia/commons/f/fe/Kernel_Machine.svg',\n",
       " 'https://upload.wikimedia.org/wikipedia/en/9/99/Question_book-new.svg',\n",
       " 'https://upload.wikimedia.org/wikipedia/en/9/96/Symbol_category_class.svg',\n",
       " 'https://upload.wikimedia.org/wikipedia/en/e/e2/Symbol_portal_class.svg']"
      ]
     },
     "execution_count": 17,
     "metadata": {},
     "output_type": "execute_result"
    }
   ],
   "source": [
    "data_page.images"
   ]
  },
  {
   "cell_type": "code",
   "execution_count": 19,
   "id": "02555146",
   "metadata": {},
   "outputs": [],
   "source": [
    "#dir(data_page)"
   ]
  },
  {
   "cell_type": "code",
   "execution_count": 20,
   "id": "7a13c41f",
   "metadata": {},
   "outputs": [
    {
     "data": {
      "text/plain": [
       "<bound method WikipediaPage.html of <WikipediaPage 'Deep learning'>>"
      ]
     },
     "execution_count": 20,
     "metadata": {},
     "output_type": "execute_result"
    }
   ],
   "source": [
    "data_page.html"
   ]
  },
  {
   "cell_type": "code",
   "execution_count": 21,
   "id": "d5ecc0af",
   "metadata": {},
   "outputs": [],
   "source": [
    "wikipedia.set_lang('hi')"
   ]
  },
  {
   "cell_type": "code",
   "execution_count": 22,
   "id": "e3c52727",
   "metadata": {},
   "outputs": [
    {
     "name": "stdout",
     "output_type": "stream",
     "text": [
      "भारत (आधिकारिक नाम: भारत गणराज्य, अंग्रेज़ी: Republic of India) दक्षिण एशिया में स्थित भारतीय उपमहाद्वीप का सबसे बड़ा देश है। भारत भौगोलिक दृष्टि से विश्व का सातवाँ सबसे बड़ा देश है, जबकि जनसंख्या के दृष्टिकोण से सबसे बड़ा देश है। भारत के पश्चिम में पाकिस्तान, उत्तर-पूर्व में चीन (तिब्बत), नेपाल और भूटान, पूर्व में बांग्लादेश और म्यान्मार स्थित हैं। भारतीय महासागर में इसके दक्षिण पश्चिम में मालदीव, दक्षिण में श्रीलंका और दक्षिण-पूर्व में इंडोनेशिया से भारत की सामुद्रिक सीमा लगती है। इसके उत्तर में हिमालय पर्वत तथा दक्षिण में भारतीय महासागर स्थित है। दक्षिण-पूर्व में बंगाल की खाड़ी तथा पश्चिम में अरब सागर है।\n",
      "आधुनिक मानव या होमो सेपियंस अफ्रीका से भारतीय उपमहाद्वीप में 55,000 साल पहले आये थे।  1,000 वर्ष पहले ये सिंधु नदी के पश्चिमी हिस्से की तरफ बसे हुए थे जहाँ से इन्होने धीरे धीरे पलायन किया और सिंधु घाटी सभ्यता के रूप में विकसित हुए।  1,200 ईसा पूर्व संस्कृत भाषा संपूर्ण भारतीय उपमहाद्वीप में फैली हुए थी और तब तक यहाँ पर हिंदू धर्म का उद्धव हो चुका था और ऋग्वेद की रचना भी हो चुकी थी।  400 ईसा पूर्व तक आते आते हिंदू धर्म में जातिवाद देखने को मिल जाता है।  इसी समय बौद्ध एवं जैन धर्म उत्पन्न हो रहे होते हैं।\n",
      "\n",
      "प्रारंभिक राजनीतिक एकत्रीकरण ने गंगा बेसिन में स्थित मौर्य और गुप्त साम्राज्यों को जन्म दिया।\n",
      "उनका समाज विस्तृत सृजनशीलता से भरा हुआ था। प्रारंभिक मध्ययुगीन काल में, ईसाई धर्म, इस्लाम, यहूदी धर्म और पारसी धर्म ने भारत के दक्षिणी और पश्चिमी तटों पर जड़ें जमा लीं। मध्य एशिया से मुस्लिम सेनाओं ने भारत के उत्तरी मैदानों पर लगातार अत्याचार किया, अंततः दिल्ली सल्तनत की स्थापना हुई और उत्तर भारत को मध्यकालीन इस्लाम साम्राज्य में मिला लिया गया।\n",
      " 15 वीं शताब्दी में, विजयनगर साम्राज्य ने दक्षिण भारत में एक लंबे समय तक चलने वाली समग्र हिंदू संस्कृति बनाई। पंजाब में सिख धर्म की स्थापना हुई।  धीरे-धीरे ब्रिटिश ईस्ट इंडिया कंपनी के शासन का विस्तार हुआ, जिसने भारत को औपनिवेशिक अर्थव्यवस्था में बदल दिया तथा अपनी संप्रभुता को भी मजबूत किया। ब्रिटिश राज शासन 1858 में शुरू हुआ। धीरे धीरे एक प्रभावशाली राष्ट्रवादी आंदोलन शुरू हुआ जिसे अहिंसक विरोध के लिए जाना गया और ब्रिटिश शासन को समाप्त करने का प्रमुख कारक बन गया।  1947 में ब्रिटिश भारतीय साम्राज्य को दो स्वतंत्र प्रभुत्वों में विभाजित किया गया, भारतीय अधिराज्य तथा पाकिस्तान अधिराज्य, जिन्हे धर्म के आधार पर विभाजित किया गया। 1950 से भारत एक संघीय गणराज्य है। भारत की जनसंख्या 1951 में 36.1 करोड़ से बढ़कर 2011 में 121.1 करोड़ हो गई। प्रति व्यक्ति आय $64 से बढ़कर $1,498 हो गई और इसकी साक्षरता दर 16.6% से 74% हो गई। भारत एक तेजी से बढ़ती हुई प्रमुख अर्थव्यवस्था और सूचना प्रौद्योगिकी सेवाओं का केंद्र बन गया है।  अंतरिक्ष क्षेत्र में भारत ने उल्लेखनीय तथा अद्वितीय प्रगति की। भारतीय फिल्में, संगीत और आध्यात्मिक शिक्षाएँ वैश्विक संस्कृति में विशेष भूमिका निभाती हैं।  भारत ने गरीबी दर को काफी हद तक कम कर दिया है। भारत देश परमाणु बम रखने वाला देश है। कश्मीर तथा भारत-पाकिस्तान और भारत-चीन सीमा पर भारत का पाकिस्तान तथा चीन से विवाद चल रहा है। लैंगिक असमानता, बाल शोषण, बाल कुपोषण, गरीबी, भ्रष्टाचार, प्रदूषण इत्यादि भारत के सामने प्रमुख चुनौतियाँ है। 21.4% क्षेत्र पर वन है। भारत के वन्यजीव, जिन्हें परंपरागत रूप से भारत की संस्कृति में सहिष्णुता के साथ देखा गया है, इन जंगलों और अन्य जगहों पर संरक्षित आवासों में निवास करते हैं।\n",
      "12 फरवरी वर्ष 1948 में महात्मा गाँधी के अस्थि कलश जिन 12 तटों पर विसर्जित किए गए थे, त्रिमोहिनी संगम भी उनमें से एक है |\n"
     ]
    }
   ],
   "source": [
    "print(wikipedia.summary(\"India\"))"
   ]
  },
  {
   "cell_type": "code",
   "execution_count": null,
   "id": "4974f3d1",
   "metadata": {},
   "outputs": [],
   "source": []
  }
 ],
 "metadata": {
  "kernelspec": {
   "display_name": "Python 3 (ipykernel)",
   "language": "python",
   "name": "python3"
  },
  "language_info": {
   "codemirror_mode": {
    "name": "ipython",
    "version": 3
   },
   "file_extension": ".py",
   "mimetype": "text/x-python",
   "name": "python",
   "nbconvert_exporter": "python",
   "pygments_lexer": "ipython3",
   "version": "3.11.4"
  }
 },
 "nbformat": 4,
 "nbformat_minor": 5
}
