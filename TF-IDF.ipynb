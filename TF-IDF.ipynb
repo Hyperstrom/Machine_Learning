{
 "cells": [
  {
   "cell_type": "code",
   "execution_count": 2,
   "id": "c48c989c",
   "metadata": {},
   "outputs": [],
   "source": [
    "import pandas as pd\n",
    "import wikipedia\n",
    "import numpy as np\n",
    "import nltk "
   ]
  },
  {
   "cell_type": "code",
   "execution_count": 3,
   "id": "2fa1549a",
   "metadata": {},
   "outputs": [],
   "source": [
    "from nltk import *"
   ]
  },
  {
   "cell_type": "code",
   "execution_count": 4,
   "id": "c4f3284a",
   "metadata": {},
   "outputs": [],
   "source": [
    "sentence1 = wikipedia.summary(\"artificial interlligence\",sentences =2)\n",
    "sentence2 = wikipedia.summary(\"Deep Learning\",sentences =2)"
   ]
  },
  {
   "cell_type": "code",
   "execution_count": 5,
   "id": "e3d142d5",
   "metadata": {},
   "outputs": [
    {
     "data": {
      "text/plain": [
       "'Artificial intelligence (AI) is intelligence demonstrated by computers, as opposed to human or animal intelligence. \"Intelligence\" encompasses the ability to learn and to reason, to generalize, and to infer meaning.'"
      ]
     },
     "execution_count": 5,
     "metadata": {},
     "output_type": "execute_result"
    }
   ],
   "source": [
    "sentence1"
   ]
  },
  {
   "cell_type": "code",
   "execution_count": 6,
   "id": "47c1859f",
   "metadata": {},
   "outputs": [
    {
     "data": {
      "text/plain": [
       "'Deep learning is part of a broader family of machine learning methods, which is based on artificial neural networks with representation learning. The adjective \"deep\" in deep learning refers to the use of multiple layers in the network.'"
      ]
     },
     "execution_count": 6,
     "metadata": {},
     "output_type": "execute_result"
    }
   ],
   "source": [
    "sentence2"
   ]
  },
  {
   "cell_type": "markdown",
   "id": "7b220ff5",
   "metadata": {},
   "source": [
    "## Sentaneces and Tokens"
   ]
  },
  {
   "cell_type": "code",
   "execution_count": 7,
   "id": "e42ce2d9",
   "metadata": {},
   "outputs": [],
   "source": [
    "from nltk.tokenize import sent_tokenize,word_tokenize"
   ]
  },
  {
   "cell_type": "code",
   "execution_count": 8,
   "id": "51a8f673",
   "metadata": {},
   "outputs": [
    {
     "name": "stdout",
     "output_type": "stream",
     "text": [
      "showing info https://raw.githubusercontent.com/nltk/nltk_data/gh-pages/index.xml\n"
     ]
    },
    {
     "data": {
      "text/plain": [
       "True"
      ]
     },
     "execution_count": 8,
     "metadata": {},
     "output_type": "execute_result"
    }
   ],
   "source": [
    "nltk.download()"
   ]
  },
  {
   "cell_type": "code",
   "execution_count": 9,
   "id": "36e853ac",
   "metadata": {},
   "outputs": [],
   "source": [
    "s1_words = word_tokenize(sentence1)\n",
    "s1_sentence = sent_tokenize(sentence1)"
   ]
  },
  {
   "cell_type": "code",
   "execution_count": 10,
   "id": "80d8e749",
   "metadata": {},
   "outputs": [
    {
     "name": "stdout",
     "output_type": "stream",
     "text": [
      "['Artificial', 'intelligence', '(', 'AI', ')', 'is', 'intelligence', 'demonstrated', 'by', 'computers', ',', 'as', 'opposed', 'to', 'human', 'or', 'animal', 'intelligence', '.', '``', 'Intelligence', \"''\", 'encompasses', 'the', 'ability', 'to', 'learn', 'and', 'to', 'reason', ',', 'to', 'generalize', ',', 'and', 'to', 'infer', 'meaning', '.'] \n",
      "\n",
      " number of words  39 \n",
      "\n",
      " ['Artificial intelligence (AI) is intelligence demonstrated by computers, as opposed to human or animal intelligence.', '\"Intelligence\" encompasses the ability to learn and to reason, to generalize, and to infer meaning.']\n"
     ]
    }
   ],
   "source": [
    "print(s1_words,\"\\n\\n number of words \",len(s1_words),\"\\n\\n\",s1_sentence)"
   ]
  },
  {
   "cell_type": "code",
   "execution_count": 11,
   "id": "9265e94d",
   "metadata": {},
   "outputs": [],
   "source": [
    "s2_words = word_tokenize(sentence2)\n",
    "s2_sentence = sent_tokenize(sentence2)"
   ]
  },
  {
   "cell_type": "code",
   "execution_count": 12,
   "id": "92e069ed",
   "metadata": {},
   "outputs": [
    {
     "name": "stdout",
     "output_type": "stream",
     "text": [
      "['Deep', 'learning', 'is', 'part', 'of', 'a', 'broader', 'family', 'of', 'machine', 'learning', 'methods', ',', 'which', 'is', 'based', 'on', 'artificial', 'neural', 'networks', 'with', 'representation', 'learning', '.', 'The', 'adjective', '``', 'deep', \"''\", 'in', 'deep', 'learning', 'refers', 'to', 'the', 'use', 'of', 'multiple', 'layers', 'in', 'the', 'network', '.'] \n",
      "\n",
      " number of words  43 \n",
      "\n",
      " ['Deep learning is part of a broader family of machine learning methods, which is based on artificial neural networks with representation learning.', 'The adjective \"deep\" in deep learning refers to the use of multiple layers in the network.']\n"
     ]
    }
   ],
   "source": [
    "print(s2_words,\"\\n\\n number of words \",len(s2_words),\"\\n\\n\",s2_sentence)"
   ]
  },
  {
   "cell_type": "code",
   "execution_count": 13,
   "id": "e7dc0fbe",
   "metadata": {},
   "outputs": [
    {
     "data": {
      "text/plain": [
       "{\"''\", ',', '.', '``', 'is', 'the', 'to'}"
      ]
     },
     "execution_count": 13,
     "metadata": {},
     "output_type": "execute_result"
    }
   ],
   "source": [
    "set(s2_words).intersection(set(s1_words))"
   ]
  },
  {
   "cell_type": "markdown",
   "id": "e52fc282",
   "metadata": {},
   "source": [
    "## Frequency Distribution"
   ]
  },
  {
   "cell_type": "code",
   "execution_count": 14,
   "id": "56ace701",
   "metadata": {},
   "outputs": [],
   "source": [
    "from nltk.probability import FreqDist"
   ]
  },
  {
   "cell_type": "code",
   "execution_count": 15,
   "id": "0f349fcd",
   "metadata": {},
   "outputs": [],
   "source": [
    "fdist = FreqDist(s1_words)"
   ]
  },
  {
   "cell_type": "code",
   "execution_count": 16,
   "id": "bc823dba",
   "metadata": {
    "scrolled": true
   },
   "outputs": [
    {
     "name": "stdout",
     "output_type": "stream",
     "text": [
      "<FreqDist with 29 samples and 39 outcomes>\n"
     ]
    }
   ],
   "source": [
    "print(fdist)"
   ]
  },
  {
   "cell_type": "code",
   "execution_count": 17,
   "id": "362b8440",
   "metadata": {},
   "outputs": [
    {
     "name": "stdout",
     "output_type": "stream",
     "text": [
      "[('to', 5), ('intelligence', 3), (',', 3), ('.', 2), ('and', 2), ('Artificial', 1), ('(', 1), ('AI', 1), (')', 1), ('is', 1), ('demonstrated', 1), ('by', 1), ('computers', 1), ('as', 1), ('opposed', 1), ('human', 1), ('or', 1), ('animal', 1), ('``', 1), ('Intelligence', 1), (\"''\", 1), ('encompasses', 1), ('the', 1), ('ability', 1), ('learn', 1), ('reason', 1), ('generalize', 1), ('infer', 1), ('meaning', 1)]\n"
     ]
    }
   ],
   "source": [
    "print(fdist.most_common())"
   ]
  },
  {
   "cell_type": "code",
   "execution_count": 18,
   "id": "ecb111da",
   "metadata": {},
   "outputs": [],
   "source": [
    "import matplotlib.pyplot as plt"
   ]
  },
  {
   "cell_type": "code",
   "execution_count": 19,
   "id": "bf75c726",
   "metadata": {},
   "outputs": [
    {
     "data": {
      "image/png": "[encoded data removed]",
      "text/plain": [
       "<Figure size 640x480 with 1 Axes>"
      ]
     },
     "metadata": {},
     "output_type": "display_data"
    },
    {
     "data": {
      "text/plain": [
       "<function matplotlib.pyplot.show(close=None, block=None)>"
      ]
     },
     "execution_count": 19,
     "metadata": {},
     "output_type": "execute_result"
    }
   ],
   "source": [
    "fdist.plot()\n",
    "plt.show"
   ]
  },
  {
   "cell_type": "markdown",
   "id": "d3b82075",
   "metadata": {},
   "source": [
    "## Stopwords"
   ]
  },
  {
   "cell_type": "code",
   "execution_count": 20,
   "id": "73e788fb",
   "metadata": {},
   "outputs": [],
   "source": [
    "from nltk.corpus import stopwords"
   ]
  },
  {
   "cell_type": "code",
   "execution_count": 21,
   "id": "1a001610",
   "metadata": {},
   "outputs": [
    {
     "name": "stdout",
     "output_type": "stream",
     "text": [
      "{\"you've\", 'been', \"mightn't\", 'with', \"hasn't\", \"wasn't\", 'more', 'is', \"you're\", 'am', 'any', 'than', 'so', 'them', 'and', 'ourselves', 'being', 'should', 'no', 'whom', 'very', 'o', 'had', 'we', 'both', 'have', 'shan', 'were', 'other', 'by', \"haven't\", 'of', 'on', 'out', \"she's\", 'doing', \"weren't\", 'when', 'below', 'these', 'him', 'same', 'or', 'up', 'such', 'where', 'until', 'who', 'own', 'himself', 'not', 'a', \"wouldn't\", 'he', 'wasn', \"shouldn't\", 'won', 'above', 'did', 'wouldn', 'do', 'off', 'to', \"mustn't\", 'isn', 'its', 'just', \"aren't\", \"doesn't\", 'because', 'once', 'haven', 'after', 'this', 'weren', 'there', 'then', 's', 're', 'over', 've', 'ain', 'me', 'against', 'further', 'ours', 'while', 'during', 'they', 'themselves', 'was', 'my', 'before', 'd', 'ma', 'some', 'hers', 'doesn', 'yourselves', 'through', 'those', 'all', \"needn't\", 'does', \"don't\", \"isn't\", 'nor', 'itself', 'from', 'for', 'his', 'can', 'don', 'didn', 'theirs', 'couldn', \"didn't\", 'll', 'most', 'will', 'between', 'again', 'here', 'few', 'mightn', 'each', \"you'll\", 'i', 'if', \"should've\", \"couldn't\", 'now', 'having', 'how', 'why', 'aren', 'an', 'our', 'has', 'it', 'hasn', 'in', 'needn', 'too', 'the', 'shouldn', 'mustn', 'she', 'what', 'm', \"that'll\", 'herself', 'your', 'that', 't', 'y', 'but', \"it's\", 'myself', \"won't\", 'which', \"shan't\", 'down', 'their', 'yours', \"hadn't\", 'you', 'hadn', 'about', 'only', \"you'd\", 'her', 'at', 'under', 'yourself', 'into', 'as', 'be', 'are'}\n"
     ]
    }
   ],
   "source": [
    "stop_words = set(stopwords.words(\"english\"))\n",
    "print(stop_words)"
   ]
  },
  {
   "cell_type": "code",
   "execution_count": 22,
   "id": "71e4a22f",
   "metadata": {},
   "outputs": [
    {
     "data": {
      "text/plain": [
       "179"
      ]
     },
     "execution_count": 22,
     "metadata": {},
     "output_type": "execute_result"
    }
   ],
   "source": [
    "len(stop_words)"
   ]
  },
  {
   "cell_type": "markdown",
   "id": "ce90f67e",
   "metadata": {},
   "source": [
    "## Removing Stopwords"
   ]
  },
  {
   "cell_type": "code",
   "execution_count": 43,
   "id": "7cc814af",
   "metadata": {},
   "outputs": [
    {
     "name": "stdout",
     "output_type": "stream",
     "text": [
      "Tokenize Sentence  43\n",
      "Filterd Sentence  29\n"
     ]
    }
   ],
   "source": [
    "filtered_set = []\n",
    "for word in s2_words:\n",
    "    if word not in stop_words:\n",
    "        filtered_set.append(word)\n",
    "print(\"Tokenize Sentence \",len(s2_words))\n",
    "print(\"Filterd Sentence \",len(filtered_set))"
   ]
  },
  {
   "cell_type": "markdown",
   "id": "79c8b046",
   "metadata": {},
   "source": [
    "## Lexicon Normalization"
   ]
  },
  {
   "cell_type": "code",
   "execution_count": 24,
   "id": "63bf1404",
   "metadata": {},
   "outputs": [],
   "source": [
    "lem = WordNetLemmatizer()"
   ]
  },
  {
   "cell_type": "code",
   "execution_count": 26,
   "id": "85bca864",
   "metadata": {},
   "outputs": [],
   "source": [
    "stem = WordNetLemmatizer()"
   ]
  },
  {
   "cell_type": "code",
   "execution_count": 29,
   "id": "cb010fb3",
   "metadata": {},
   "outputs": [
    {
     "name": "stdout",
     "output_type": "stream",
     "text": [
      "Lemmatized Word :  go\n"
     ]
    }
   ],
   "source": [
    "word = \"went\"\n",
    "print(\"Lemmatized Word : \",lem.lemmatize(word,\"v\"))"
   ]
  },
  {
   "cell_type": "code",
   "execution_count": 32,
   "id": "6ec699d2",
   "metadata": {},
   "outputs": [
    {
     "name": "stdout",
     "output_type": "stream",
     "text": [
      "   ability     ai   and  animal  artificial     as     by  computers  \\\n",
      "0    0.125  0.125  0.25   0.125       0.125  0.125  0.125      0.125   \n",
      "\n",
      "   demonstrated  encompasses  ...  infer  intelligence     is  learn  meaning  \\\n",
      "0         0.125        0.125  ...  0.125           0.5  0.125  0.125    0.125   \n",
      "\n",
      "   opposed     or  reason    the     to  \n",
      "0    0.125  0.125   0.125  0.125  0.625  \n",
      "\n",
      "[1 rows x 22 columns]\n"
     ]
    }
   ],
   "source": [
    "from sklearn.feature_extraction.text import TfidfVectorizer\n",
    "\n",
    "corpus = [sentence1]\n",
    "\n",
    "#create TfidVectorizer object\n",
    "tfidf = TfidfVectorizer()\n",
    "\n",
    "#compute a sparse matrix of word vectors for the corpus\n",
    "tfidf_matrix = tfidf.fit_transform(corpus)\n",
    "\n",
    "#display property of sparse matrix \n",
    "tfidf_matrix\n",
    "\n",
    "# convert this sparse matrix to a dense numpy array , so that we can create a data frame for display purposes only\n",
    "df = pd.DataFrame(tfidf_matrix.toarray(),columns = tfidf.get_feature_names_out())\n",
    "print(df)\n",
    "\n"
   ]
  },
  {
   "cell_type": "code",
   "execution_count": 34,
   "id": "5dd2fe3a",
   "metadata": {},
   "outputs": [
    {
     "name": "stdout",
     "output_type": "stream",
     "text": [
      "   ability        ai  and  animal  artificial   as   by  computers  \\\n",
      "0      0.0  0.707107  0.0     0.0         0.0  0.0  0.0        0.0   \n",
      "\n",
      "   demonstrated  encompasses  ...  infer  intelligence        is  learn  \\\n",
      "0           0.0          0.0  ...    0.0           0.0  0.707107    0.0   \n",
      "\n",
      "   meaning  opposed   or  reason  the   to  \n",
      "0      0.0      0.0  0.0     0.0  0.0  0.0  \n",
      "\n",
      "[1 rows x 22 columns]\n"
     ]
    }
   ],
   "source": [
    "#compute TF-IDF matrix for a new document\n",
    "new_doc = \"ai is a far more dangoues\"\n",
    "new_doc_vector = tfidf.transform([new_doc])\n",
    "df_new_doc = pd.DataFrame(new_doc_vector.toarray(),columns = tfidf.get_feature_names_out())\n",
    "print(df_new_doc)"
   ]
  },
  {
   "cell_type": "code",
   "execution_count": 35,
   "id": "5c5a2a68",
   "metadata": {},
   "outputs": [],
   "source": [
    "from sklearn.metrics.pairwise import cosine_similarity\n",
    "from sklearn.feature_extraction.text import TfidfVectorizer"
   ]
  },
  {
   "cell_type": "code",
   "execution_count": 37,
   "id": "50bc9ffb",
   "metadata": {},
   "outputs": [
    {
     "name": "stdout",
     "output_type": "stream",
     "text": [
      "[[1.]]\n"
     ]
    }
   ],
   "source": [
    "cosine_sim = cosine_similarity(tfidf_matrix,tfidf_matrix)\n",
    "print(cosine_sim)"
   ]
  },
  {
   "cell_type": "code",
   "execution_count": 42,
   "id": "30fc46cb",
   "metadata": {},
   "outputs": [
    {
     "name": "stdout",
     "output_type": "stream",
     "text": [
      "[[1.         0.19478421]\n",
      " [0.19478421 1.        ]]\n"
     ]
    }
   ],
   "source": [
    "#to see similerities \n",
    "corpus = s1_sentence\n",
    "\n",
    "#create TfidfVectorizer\n",
    "tfidf = TfidfVectorizer()\n",
    "\n",
    "#compute a sparse matrix of word vectors for the corpus \n",
    "tfidf_matrix = tfidf.fit_transform(corpus)\n",
    "\n",
    "#compute and print the cosine similarity matrix\n",
    "cosine_sim = cosine_similarity(tfidf_matrix,tfidf_matrix)\n",
    "print(cosine_sim)"
   ]
  }
 ],
 "metadata": {
  "kernelspec": {
   "display_name": "Python 3 (ipykernel)",
   "language": "python",
   "name": "python3"
  },
  "language_info": {
   "codemirror_mode": {
    "name": "ipython",
    "version": 3
   },
   "file_extension": ".py",
   "mimetype": "text/x-python",
   "name": "python",
   "nbconvert_exporter": "python",
   "pygments_lexer": "ipython3",
   "version": "3.11.4"
  }
 },
 "nbformat": 4,
 "nbformat_minor": 5
}
