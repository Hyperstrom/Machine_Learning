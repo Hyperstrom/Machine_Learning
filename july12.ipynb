{
 "cells": [
  {
   "cell_type": "code",
   "execution_count": 8,
   "id": "98c93daf",
   "metadata": {},
   "outputs": [],
   "source": [
    "import wikipedia as wiki\n",
    "import pandas as pd\n",
    "import numpy as np"
   ]
  },
  {
   "cell_type": "code",
   "execution_count": 2,
   "id": "23114dee",
   "metadata": {},
   "outputs": [],
   "source": [
    "data_wiki = wikipedia.summary(\"indian\")"
   ]
  },
  {
   "cell_type": "code",
   "execution_count": 3,
   "id": "712b73e1",
   "metadata": {},
   "outputs": [
    {
     "data": {
      "text/plain": [
       "\"India, officially the Republic of India (Hindi: Bhārat Gaṇarājya), is a country in South Asia. It is the seventh-largest country by area; the most populous country and the world's most populous democracy. Bounded by the Indian Ocean on the south, the Arabian Sea on the southwest, and the Bay of Bengal on the southeast, it shares land borders with Pakistan to the west; China, Nepal, and Bhutan to the north; and Bangladesh and Myanmar to the east. In the Indian Ocean, India is in the vicinity of Sri Lanka and the Maldives; its Andaman and Nicobar Islands share a maritime border with Thailand, Myanmar, and Indonesia.\\nModern humans arrived on the Indian subcontinent from Africa no later than 55,000 years ago.\\nTheir long occupation, initially in varying forms of isolation as hunter-gatherers, has made the region highly diverse, second only to Africa in human genetic diversity. Settled life emerged on the subcontinent in the western margins of the Indus river basin 9,000 years ago, evolving gradually into the Indus Valley Civilisation of the third millennium BCE.\\nBy 1200 BCE, an archaic form of Sanskrit, an Indo-European language, had diffused into India from the northwest. Its evidence today is found in the hymns of the Rigveda. Preserved by an oral tradition that was resolutely vigilant, the Rigveda records the dawning of Hinduism in India. The Dravidian languages of India were supplanted in the northern and western regions.\\nBy 400 BCE, stratification and exclusion by caste had emerged within Hinduism,\\nand Buddhism and Jainism had arisen, proclaiming social orders unlinked to heredity.\\nEarly political consolidations gave rise to the loose-knit Maurya and Gupta Empires based in the Ganges Basin.\\nTheir collective era was suffused with wide-ranging creativity, but also marked by the declining status of women, and the incorporation of untouchability into an organised system of belief. In South India, the Middle kingdoms exported Dravidian-languages scripts and religious cultures to the kingdoms of Southeast Asia.In the early medieval era, Christianity, Islam, Judaism, and Zoroastrianism became established on India's southern and western coasts.\\nMuslim armies from Central Asia intermittently overran India's northern plains,\\neventually founding the Delhi Sultanate, and drawing northern India into the cosmopolitan networks of medieval Islam.\\nIn the 15th century, the Vijayanagara Empire created a long-lasting composite Hindu culture in south India.\\nIn the Punjab, Sikhism emerged, rejecting institutionalised religion.\\nThe Mughal Empire, in 1526, ushered in two centuries of relative peace,\\nleaving a legacy of luminous architecture.\\nGradually expanding rule of the British East India Company followed, turning India into a colonial economy, but also consolidating its sovereignty. British Crown rule began in 1858. The rights promised to Indians were granted slowly, but technological changes were introduced, and modern ideas of education and the public life took root. A pioneering and influential nationalist movement emerged, which was noted for nonviolent resistance and became the major factor in ending British rule. In 1947 the British Indian Empire was partitioned into two independent dominions, a Hindu-majority Dominion of India and a Muslim-majority Dominion of Pakistan, amid large-scale loss of life and an unprecedented migration.India has been a federal republic since 1950, governed through a democratic parliamentary system. It is a pluralistic, multilingual and multi-ethnic society. India's population grew from 361 million in 1951 to almost 1.4 billion in 2022.\\nDuring the same time, its nominal per capita income increased from US$64 annually to US$2,601, and its literacy rate from 16.6% to 74%. From being a comparatively destitute country in 1951,\\nIndia has become a fast-growing major economy and a hub for information technology services, with an expanding middle class. It has a space programme which includes several planned or completed extraterrestrial missions. Indian movies, music, and spiritual teachings play an increasing role in global culture.\\nIndia has substantially reduced its rate of poverty, though at the cost of increasing economic inequality.\\nIndia is a nuclear-weapon state, which ranks high in military expenditure. It has disputes over Kashmir with its neighbours, Pakistan and China, unresolved since the mid-20th century.\\nAmong the socio-economic challenges India faces are gender inequality, child malnutrition,\\nand rising levels of air pollution.\\nIndia's land is megadiverse, with four biodiversity hotspots. Its forest cover comprises 21.7% of its area. India's wildlife, which has traditionally been viewed with tolerance in India's culture, is supported among these forests, and elsewhere, in protected habitats.\""
      ]
     },
     "execution_count": 3,
     "metadata": {},
     "output_type": "execute_result"
    }
   ],
   "source": [
    "data_wiki"
   ]
  },
  {
   "cell_type": "code",
   "execution_count": 4,
   "id": "3ca4462e",
   "metadata": {},
   "outputs": [
    {
     "data": {
      "text/plain": [
       "['API_URL',\n",
       " 'BeautifulSoup',\n",
       " 'Decimal',\n",
       " 'DisambiguationError',\n",
       " 'HTTPTimeoutError',\n",
       " 'ODD_ERROR_MESSAGE',\n",
       " 'PageError',\n",
       " 'RATE_LIMIT',\n",
       " 'RATE_LIMIT_LAST_CALL',\n",
       " 'RATE_LIMIT_MIN_WAIT',\n",
       " 'RedirectError',\n",
       " 'USER_AGENT',\n",
       " 'WikipediaException',\n",
       " 'WikipediaPage',\n",
       " '__builtins__',\n",
       " '__cached__',\n",
       " '__doc__',\n",
       " '__file__',\n",
       " '__loader__',\n",
       " '__name__',\n",
       " '__package__',\n",
       " '__path__',\n",
       " '__spec__',\n",
       " '__version__',\n",
       " 'cache',\n",
       " 'datetime',\n",
       " 'debug',\n",
       " 'donate',\n",
       " 'exceptions',\n",
       " 'geosearch',\n",
       " 'languages',\n",
       " 'page',\n",
       " 'random',\n",
       " 're',\n",
       " 'requests',\n",
       " 'search',\n",
       " 'set_lang',\n",
       " 'set_rate_limiting',\n",
       " 'set_user_agent',\n",
       " 'stdout_encode',\n",
       " 'suggest',\n",
       " 'summary',\n",
       " 'sys',\n",
       " 'time',\n",
       " 'timedelta',\n",
       " 'unicode_literals',\n",
       " 'util',\n",
       " 'wikipedia']"
      ]
     },
     "execution_count": 4,
     "metadata": {},
     "output_type": "execute_result"
    }
   ],
   "source": [
    "dir(wikipedia)"
   ]
  },
  {
   "cell_type": "code",
   "execution_count": 5,
   "id": "a59dfb68",
   "metadata": {},
   "outputs": [],
   "source": [
    "data_page = wikipedia.page(\"Deep Learning\")"
   ]
  },
  {
   "cell_type": "code",
   "execution_count": 6,
   "id": "84944c4c",
   "metadata": {},
   "outputs": [
    {
     "data": {
      "text/plain": [
       "<WikipediaPage 'Deep learning'>"
      ]
     },
     "execution_count": 6,
     "metadata": {},
     "output_type": "execute_result"
    }
   ],
   "source": [
    "data_page"
   ]
  },
  {
   "cell_type": "code",
   "execution_count": 7,
   "id": "c28d4b9f",
   "metadata": {},
   "outputs": [
    {
     "data": {
      "text/plain": [
       "['_WikipediaPage__continued_query',\n",
       " '_WikipediaPage__load',\n",
       " '_WikipediaPage__title_query_param',\n",
       " '__class__',\n",
       " '__delattr__',\n",
       " '__dict__',\n",
       " '__dir__',\n",
       " '__doc__',\n",
       " '__eq__',\n",
       " '__format__',\n",
       " '__ge__',\n",
       " '__getattribute__',\n",
       " '__getstate__',\n",
       " '__gt__',\n",
       " '__hash__',\n",
       " '__init__',\n",
       " '__init_subclass__',\n",
       " '__le__',\n",
       " '__lt__',\n",
       " '__module__',\n",
       " '__ne__',\n",
       " '__new__',\n",
       " '__reduce__',\n",
       " '__reduce_ex__',\n",
       " '__repr__',\n",
       " '__setattr__',\n",
       " '__sizeof__',\n",
       " '__str__',\n",
       " '__subclasshook__',\n",
       " '__weakref__',\n",
       " 'categories',\n",
       " 'content',\n",
       " 'coordinates',\n",
       " 'html',\n",
       " 'images',\n",
       " 'links',\n",
       " 'original_title',\n",
       " 'pageid',\n",
       " 'parent_id',\n",
       " 'references',\n",
       " 'revision_id',\n",
       " 'section',\n",
       " 'sections',\n",
       " 'summary',\n",
       " 'title',\n",
       " 'url']"
      ]
     },
     "execution_count": 7,
     "metadata": {},
     "output_type": "execute_result"
    }
   ],
   "source": [
    "dir(data_page)"
   ]
  },
  {
   "cell_type": "code",
   "execution_count": 9,
   "id": "a7ee270c",
   "metadata": {},
   "outputs": [
    {
     "data": {
      "text/plain": [
       "'Deep learning is part of a broader family of machine learning methods, which is based on artificial neural networks with representation learning. The adjective \"deep\" in deep learning refers to the use of multiple layers in the network. Methods used can be either supervised, semi-supervised or unsupervised.Deep-learning architectures such as deep neural networks, deep belief networks, deep reinforcement learning, recurrent neural networks, convolutional neural networks and transformers have been applied to fields including computer vision, speech recognition, natural language processing, machine translation, bioinformatics, drug design, medical image analysis, climate science, material inspection and board game programs, where they have produced results comparable to and in some cases surpassing human expert performance.Artificial neural networks (ANNs) were inspired by information processing and distributed communication nodes in biological systems. ANNs have various differences from biological brains.  Specifically, artificial neural networks tend to be static and symbolic, while the biological brain of most living organisms is dynamic (plastic) and analog.Discovery that deep neural network (with a nonpolynomial activation function with one hidden layer of unbounded width) is able to be can a universal classifier,  this is known as third wave of connectionism after a linear perceptron being shown unable to be one. In deep learning the layers are also permitted to be heterogeneous and to deviate widely from biologically informed models, for the sake of efficiency, trainability and understandability.'"
      ]
     },
     "execution_count": 9,
     "metadata": {},
     "output_type": "execute_result"
    }
   ],
   "source": [
    "data_page.summary"
   ]
  },
  {
   "cell_type": "code",
   "execution_count": 10,
   "id": "fb83ec5e",
   "metadata": {},
   "outputs": [
    {
     "data": {
      "text/plain": [
       "['https://upload.wikimedia.org/wikipedia/commons/b/bb/AI-ML-DL.svg',\n",
       " 'https://upload.wikimedia.org/wikipedia/commons/1/1c/Artificial_intelligence_prompt_completion_by_dalle_mini.jpg',\n",
       " 'https://upload.wikimedia.org/wikipedia/commons/0/0e/Closed_Access_logo_transparent.svg',\n",
       " 'https://upload.wikimedia.org/wikipedia/commons/2/26/Deep_Learning.jpg',\n",
       " 'https://upload.wikimedia.org/wikipedia/commons/7/75/Jimmy_Wales_in_France%2C_with_the_style_of_Munch%27s_%22The_Scream%22_applied_using_neural_style_transfer.jpg',\n",
       " 'https://upload.wikimedia.org/wikipedia/commons/f/fe/Kernel_Machine.svg',\n",
       " 'https://upload.wikimedia.org/wikipedia/en/9/99/Question_book-new.svg',\n",
       " 'https://upload.wikimedia.org/wikipedia/en/9/96/Symbol_category_class.svg',\n",
       " 'https://upload.wikimedia.org/wikipedia/en/e/e2/Symbol_portal_class.svg']"
      ]
     },
     "execution_count": 10,
     "metadata": {},
     "output_type": "execute_result"
    }
   ],
   "source": [
    "data_page.images"
   ]
  },
  {
   "cell_type": "code",
   "execution_count": 11,
   "id": "b7a1343f",
   "metadata": {},
   "outputs": [
    {
     "data": {
      "text/plain": [
       "<bound method WikipediaPage.html of <WikipediaPage 'Deep learning'>>"
      ]
     },
     "execution_count": 11,
     "metadata": {},
     "output_type": "execute_result"
    }
   ],
   "source": [
    "data_page.html"
   ]
  },
  {
   "cell_type": "code",
   "execution_count": 18,
   "id": "8530ca96",
   "metadata": {},
   "outputs": [],
   "source": [
    "wiki.set_lang(\"hi\")"
   ]
  },
  {
   "cell_type": "code",
   "execution_count": 20,
   "id": "7e803d2d",
   "metadata": {},
   "outputs": [
    {
     "name": "stdout",
     "output_type": "stream",
     "text": [
      "भारत (आधिकारिक नाम: भारत गणराज्य, अंग्रेज़ी: Republic of India) दक्षिण एशिया में स्थित भारतीय उपमहाद्वीप का सबसे बड़ा देश है। भारत भौगोलिक दृष्टि से विश्व का सातवाँ सबसे बड़ा देश है, जबकि जनसंख्या के दृष्टिकोण से सबसे बड़ा देश है। भारत के पश्चिम में पाकिस्तान, उत्तर-पूर्व में चीन (तिब्बत), नेपाल और भूटान, पूर्व में बांग्लादेश और म्यान्मार स्थित हैं। भारतीय महासागर में इसके दक्षिण पश्चिम में मालदीव, दक्षिण में श्रीलंका और दक्षिण-पूर्व में इंडोनेशिया से भारत की सामुद्रिक सीमा लगती है। इसके उत्तर में हिमालय पर्वत तथा दक्षिण में भारतीय महासागर स्थित है। दक्षिण-पूर्व में बंगाल की खाड़ी तथा पश्चिम में अरब सागर है।\n",
      "आधुनिक मानव या होमो सेपियंस अफ्रीका से भारतीय उपमहाद्वीप में 55,000 साल पहले आये थे।  1,000 वर्ष पहले ये सिंधु नदी के पश्चिमी हिस्से की तरफ बसे हुए थे जहाँ से इन्होने धीरे धीरे पलायन किया और सिंधु घाटी सभ्यता के रूप में विकसित हुए।  1,200 ईसा पूर्व संस्कृत भाषा संपूर्ण भारतीय उपमहाद्वीप में फैली हुए थी और तब तक यहाँ पर हिंदू धर्म का उद्धव हो चुका था और ऋग्वेद की रचना भी हो चुकी थी।  400 ईसा पूर्व तक आते आते हिंदू धर्म में जातिवाद देखने को मिल जाता है।  इसी समय बौद्ध एवं जैन धर्म उत्पन्न हो रहे होते हैं।\n",
      "\n",
      "प्रारंभिक राजनीतिक एकत्रीकरण ने गंगा बेसिन में स्थित मौर्य और गुप्त साम्राज्यों को जन्म दिया।\n",
      "उनका समाज विस्तृत सृजनशीलता से भरा हुआ था। प्रारंभिक मध्ययुगीन काल में, ईसाई धर्म, इस्लाम, यहूदी धर्म और पारसी धर्म ने भारत के दक्षिणी और पश्चिमी तटों पर जड़ें जमा लीं। मध्य एशिया से मुस्लिम सेनाओं ने भारत के उत्तरी मैदानों पर लगातार अत्याचार किया, अंततः दिल्ली सल्तनत की स्थापना हुई और उत्तर भारत को मध्यकालीन इस्लाम साम्राज्य में मिला लिया गया।\n",
      " 15 वीं शताब्दी में, विजयनगर साम्राज्य ने दक्षिण भारत में एक लंबे समय तक चलने वाली समग्र हिंदू संस्कृति बनाई। पंजाब में सिख धर्म की स्थापना हुई।  धीरे-धीरे ब्रिटिश ईस्ट इंडिया कंपनी के शासन का विस्तार हुआ, जिसने भारत को औपनिवेशिक अर्थव्यवस्था में बदल दिया तथा अपनी संप्रभुता को भी मजबूत किया। ब्रिटिश राज शासन 1858 में शुरू हुआ। धीरे धीरे एक प्रभावशाली राष्ट्रवादी आंदोलन शुरू हुआ जिसे अहिंसक विरोध के लिए जाना गया और ब्रिटिश शासन को समाप्त करने का प्रमुख कारक बन गया।  1947 में ब्रिटिश भारतीय साम्राज्य को दो स्वतंत्र प्रभुत्वों में विभाजित किया गया, भारतीय अधिराज्य तथा पाकिस्तान अधिराज्य, जिन्हे धर्म के आधार पर विभाजित किया गया। 1950 से भारत एक संघीय गणराज्य है। भारत की जनसंख्या 1951 में 36.1 करोड़ से बढ़कर 2011 में 121.1 करोड़ हो गई। प्रति व्यक्ति आय $64 से बढ़कर $1,498 हो गई और इसकी साक्षरता दर 16.6% से 74% हो गई। भारत एक तेजी से बढ़ती हुई प्रमुख अर्थव्यवस्था और सूचना प्रौद्योगिकी सेवाओं का केंद्र बन गया है।  अंतरिक्ष क्षेत्र में भारत ने उल्लेखनीय तथा अद्वितीय प्रगति की। भारतीय फिल्में, संगीत और आध्यात्मिक शिक्षाएँ वैश्विक संस्कृति में विशेष भूमिका निभाती हैं।  भारत ने गरीबी दर को काफी हद तक कम कर दिया है। भारत देश परमाणु बम रखने वाला देश है। कश्मीर तथा भारत-पाकिस्तान और भारत-चीन सीमा पर भारत का पाकिस्तान तथा चीन से विवाद चल रहा है। लैंगिक असमानता, बाल शोषण, बाल कुपोषण, गरीबी, भ्रष्टाचार, प्रदूषण इत्यादि भारत के सामने प्रमुख चुनौतियाँ है। 21.4% क्षेत्र पर वन है। भारत के वन्यजीव, जिन्हें परंपरागत रूप से भारत की संस्कृति में सहिष्णुता के साथ देखा गया है, इन जंगलों और अन्य जगहों पर संरक्षित आवासों में निवास करते हैं।\n",
      "12 फरवरी वर्ष 1948 में महात्मा गाँधी के अस्थि कलश जिन 12 तटों पर विसर्जित किए गए थे, त्रिमोहिनी संगम भी उनमें से एक है |\n"
     ]
    }
   ],
   "source": [
    "print(wiki.summary(\"India\"))"
   ]
  }
 ],
 "metadata": {
  "kernelspec": {
   "display_name": "Python 3 (ipykernel)",
   "language": "python",
   "name": "python3"
  },
  "language_info": {
   "codemirror_mode": {
    "name": "ipython",
    "version": 3
   },
   "file_extension": ".py",
   "mimetype": "text/x-python",
   "name": "python",
   "nbconvert_exporter": "python",
   "pygments_lexer": "ipython3",
   "version": "3.11.4"
  }
 },
 "nbformat": 4,
 "nbformat_minor": 5
}
