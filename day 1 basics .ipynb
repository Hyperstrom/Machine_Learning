{
 "cells": [
  {
   "cell_type": "code",
   "execution_count": 34,
   "id": "1c9a561e",
   "metadata": {},
   "outputs": [
    {
     "name": "stdout",
     "output_type": "stream",
     "text": [
      "This is python\n"
     ]
    }
   ],
   "source": [
    "print(\"This is python\")"
   ]
  },
  {
   "cell_type": "code",
   "execution_count": 35,
   "id": "bbc030eb",
   "metadata": {},
   "outputs": [],
   "source": [
    "a =10\n",
    "b = 20"
   ]
  },
  {
   "cell_type": "code",
   "execution_count": 36,
   "id": "8e5be643",
   "metadata": {},
   "outputs": [
    {
     "name": "stdout",
     "output_type": "stream",
     "text": [
      "Value of a and b is  10 20\n"
     ]
    }
   ],
   "source": [
    "print(\"Value of a and b is \",a,b)"
   ]
  },
  {
   "cell_type": "code",
   "execution_count": 37,
   "id": "8a9456ac",
   "metadata": {},
   "outputs": [
    {
     "name": "stdout",
     "output_type": "stream",
     "text": [
      "Value of a is 10 and b is 20\n"
     ]
    }
   ],
   "source": [
    "print(\"Value of a is {} and b is {}\".format(a,b))"
   ]
  },
  {
   "cell_type": "code",
   "execution_count": 38,
   "id": "98b97d3a",
   "metadata": {},
   "outputs": [],
   "source": [
    "#precision handling"
   ]
  },
  {
   "cell_type": "code",
   "execution_count": 39,
   "id": "8b5a9d72",
   "metadata": {},
   "outputs": [
    {
     "name": "stdout",
     "output_type": "stream",
     "text": [
      "21.7877\n"
     ]
    }
   ],
   "source": [
    "a = 21.7876545\n",
    "print(\"%.4f\"%a) #print the value upto 4 decimal"
   ]
  },
  {
   "cell_type": "code",
   "execution_count": 40,
   "id": "3f67c50e",
   "metadata": {},
   "outputs": [
    {
     "name": "stdout",
     "output_type": "stream",
     "text": [
      "21.877\n",
      "21.88\n",
      "21.8766\n"
     ]
    }
   ],
   "source": [
    "a = 21.876567\n",
    "print(\"{0:.3f}\".format(a))\n",
    "print(round(a,2))\n",
    "print(f\"{a:0,.4f}\")"
   ]
  },
  {
   "cell_type": "code",
   "execution_count": 41,
   "id": "1792e4c8",
   "metadata": {},
   "outputs": [
    {
     "name": "stdout",
     "output_type": "stream",
     "text": [
      "Value of var_i is 11\n",
      "Value of var_i is 12\n",
      "Value of var_i is 13\n",
      "Value of var_i is 14\n",
      "Value of var_i is 15\n",
      "Value of var_i is 16\n"
     ]
    }
   ],
   "source": [
    "for var_i in[11,12,13,14,15,16]:\n",
    "    print(\"Value of var_i is {}\".format(var_i))"
   ]
  },
  {
   "cell_type": "code",
   "execution_count": 42,
   "id": "f5b5a470",
   "metadata": {},
   "outputs": [
    {
     "name": "stdout",
     "output_type": "stream",
     "text": [
      "Hello\n",
      "Hello\n",
      "Hello\n",
      "Hello\n",
      "Hello\n",
      "Hello\n"
     ]
    }
   ],
   "source": [
    "for var_i in[11,12,13,14,15,16]:\n",
    "    print(\"Hello\")"
   ]
  },
  {
   "cell_type": "code",
   "execution_count": 43,
   "id": "40aa7d7b",
   "metadata": {},
   "outputs": [
    {
     "data": {
      "text/plain": [
       "True"
      ]
     },
     "execution_count": 43,
     "metadata": {},
     "output_type": "execute_result"
    }
   ],
   "source": [
    "a_list = [1,23,45,67,89]\n",
    "89 in a_list"
   ]
  },
  {
   "cell_type": "code",
   "execution_count": 44,
   "id": "5deca5a2",
   "metadata": {},
   "outputs": [],
   "source": [
    "a_list = [12,11,23,1,23,13]"
   ]
  },
  {
   "cell_type": "code",
   "execution_count": 45,
   "id": "6f89dd67",
   "metadata": {},
   "outputs": [
    {
     "name": "stdout",
     "output_type": "stream",
     "text": [
      "['__add__', '__class__', '__class_getitem__', '__contains__', '__delattr__', '__delitem__', '__dir__', '__doc__', '__eq__', '__format__', '__ge__', '__getattribute__', '__getitem__', '__getstate__', '__gt__', '__hash__', '__iadd__', '__imul__', '__init__', '__init_subclass__', '__iter__', '__le__', '__len__', '__lt__', '__mul__', '__ne__', '__new__', '__reduce__', '__reduce_ex__', '__repr__', '__reversed__', '__rmul__', '__setattr__', '__setitem__', '__sizeof__', '__str__', '__subclasshook__', 'append', 'clear', 'copy', 'count', 'extend', 'index', 'insert', 'pop', 'remove', 'reverse', 'sort']\n"
     ]
    }
   ],
   "source": [
    "print(dir(a_list))"
   ]
  },
  {
   "cell_type": "code",
   "execution_count": 46,
   "id": "e205d448",
   "metadata": {},
   "outputs": [
    {
     "data": {
      "text/plain": [
       "48"
      ]
     },
     "execution_count": 46,
     "metadata": {},
     "output_type": "execute_result"
    }
   ],
   "source": [
    "len(dir(a_list))"
   ]
  },
  {
   "cell_type": "code",
   "execution_count": 48,
   "id": "94be5300",
   "metadata": {},
   "outputs": [],
   "source": [
    "a_tup = (12,12,34,12,11,2,34)"
   ]
  },
  {
   "cell_type": "code",
   "execution_count": 50,
   "id": "25620fd4",
   "metadata": {},
   "outputs": [
    {
     "name": "stdout",
     "output_type": "stream",
     "text": [
      "['__add__', '__class__', '__class_getitem__', '__contains__', '__delattr__', '__dir__', '__doc__', '__eq__', '__format__', '__ge__', '__getattribute__', '__getitem__', '__getnewargs__', '__getstate__', '__gt__', '__hash__', '__init__', '__init_subclass__', '__iter__', '__le__', '__len__', '__lt__', '__mul__', '__ne__', '__new__', '__reduce__', '__reduce_ex__', '__repr__', '__rmul__', '__setattr__', '__sizeof__', '__str__', '__subclasshook__', 'count', 'index']\n"
     ]
    }
   ],
   "source": [
    "print(dir(a_tup))"
   ]
  },
  {
   "cell_type": "code",
   "execution_count": 52,
   "id": "17ccf4bc",
   "metadata": {},
   "outputs": [
    {
     "data": {
      "text/plain": [
       "35"
      ]
     },
     "execution_count": 52,
     "metadata": {},
     "output_type": "execute_result"
    }
   ],
   "source": [
    "len(dir(a_tup)) #list have more functions than tupple"
   ]
  },
  {
   "cell_type": "code",
   "execution_count": 82,
   "id": "74d06293",
   "metadata": {},
   "outputs": [],
   "source": [
    "a_list = [12,\"hello\",72,90,\"hi\"]\n",
    "b_list = [10,\"world\",9,90,12,\"hi\",99,78]"
   ]
  },
  {
   "cell_type": "code",
   "execution_count": 83,
   "id": "f5c43921",
   "metadata": {},
   "outputs": [],
   "source": [
    "a_list.extend(b_list)"
   ]
  },
  {
   "cell_type": "code",
   "execution_count": 85,
   "id": "a2aa6173",
   "metadata": {},
   "outputs": [
    {
     "name": "stdout",
     "output_type": "stream",
     "text": [
      "[12, 'hello', 72, 90, 'hi', 10, 'world', 9, 90, 12, 'hi', 99, 78]\n"
     ]
    }
   ],
   "source": [
    "print(a_list)"
   ]
  },
  {
   "cell_type": "code",
   "execution_count": 72,
   "id": "28451e39",
   "metadata": {},
   "outputs": [],
   "source": [
    "#append,pop,remove"
   ]
  },
  {
   "cell_type": "code",
   "execution_count": 73,
   "id": "c3b83799",
   "metadata": {},
   "outputs": [
    {
     "data": {
      "text/plain": [
       "['append',\n",
       " 'clear',\n",
       " 'copy',\n",
       " 'count',\n",
       " 'extend',\n",
       " 'index',\n",
       " 'insert',\n",
       " 'pop',\n",
       " 'remove',\n",
       " 'reverse',\n",
       " 'sort']"
      ]
     },
     "execution_count": 73,
     "metadata": {},
     "output_type": "execute_result"
    }
   ],
   "source": [
    "list_method = dir(a_list)\n",
    "list_method[37:] #list functions "
   ]
  },
  {
   "cell_type": "code",
   "execution_count": 86,
   "id": "191eeaee",
   "metadata": {},
   "outputs": [
    {
     "data": {
      "text/plain": [
       "[12, 'hello', 72, 90, 'hi', 10, 'world', 9, 90, 12, 'hi', 99, 78]"
      ]
     },
     "execution_count": 86,
     "metadata": {},
     "output_type": "execute_result"
    }
   ],
   "source": [
    "a_list"
   ]
  },
  {
   "cell_type": "code",
   "execution_count": 87,
   "id": "91b11323",
   "metadata": {},
   "outputs": [],
   "source": [
    "a_list.remove(\"hi\")"
   ]
  },
  {
   "cell_type": "code",
   "execution_count": 88,
   "id": "1d0513bf",
   "metadata": {},
   "outputs": [
    {
     "data": {
      "text/plain": [
       "[12, 'hello', 72, 90, 10, 'world', 9, 90, 12, 'hi', 99, 78]"
      ]
     },
     "execution_count": 88,
     "metadata": {},
     "output_type": "execute_result"
    }
   ],
   "source": [
    "a_list #remove function removed thr first \"hi\""
   ]
  },
  {
   "cell_type": "code",
   "execution_count": 90,
   "id": "0db95058",
   "metadata": {},
   "outputs": [
    {
     "data": {
      "text/plain": [
       "78"
      ]
     },
     "execution_count": 90,
     "metadata": {},
     "output_type": "execute_result"
    }
   ],
   "source": [
    "a_list.pop()"
   ]
  },
  {
   "cell_type": "code",
   "execution_count": 91,
   "id": "69e69401",
   "metadata": {},
   "outputs": [
    {
     "data": {
      "text/plain": [
       "[12, 'hello', 72, 90, 10, 'world', 9, 90, 12, 'hi', 99]"
      ]
     },
     "execution_count": 91,
     "metadata": {},
     "output_type": "execute_result"
    }
   ],
   "source": [
    "a_list #78 is poped out"
   ]
  },
  {
   "cell_type": "markdown",
   "id": "0318bc26",
   "metadata": {},
   "source": [
    "# slicing[:]"
   ]
  },
  {
   "cell_type": "code",
   "execution_count": null,
   "id": "8db11833",
   "metadata": {},
   "outputs": [],
   "source": [
    "# #it return the range of element in the list \n",
    "# start         end            stop\n",
    "# 0          len(a)-1           +1      a_list[:]        [:]\n",
    "# m          len(a)-1           +1      a_list[2:]       m:  \n",
    "# m            n-1              +1      a_list[2:5]      m:n\n",
    "# m            n-1              +1      a_list[:5]       :n\n",
    "# m            n-1              +s      a_list[m:n:s]"
   ]
  },
  {
   "cell_type": "code",
   "execution_count": 92,
   "id": "3729d92a",
   "metadata": {},
   "outputs": [],
   "source": [
    "a_list = [11,12,13,14,15,16,17,18,19,20]"
   ]
  },
  {
   "cell_type": "code",
   "execution_count": 93,
   "id": "c8d5b17d",
   "metadata": {},
   "outputs": [
    {
     "data": {
      "text/plain": [
       "[11, 12, 13, 14, 15, 16, 17, 18, 19, 20]"
      ]
     },
     "execution_count": 93,
     "metadata": {},
     "output_type": "execute_result"
    }
   ],
   "source": [
    "a_list[:]"
   ]
  },
  {
   "cell_type": "code",
   "execution_count": 94,
   "id": "d3f30b89",
   "metadata": {},
   "outputs": [
    {
     "data": {
      "text/plain": [
       "[11, 12, 13, 14, 15, 16, 17, 18, 19, 20]"
      ]
     },
     "execution_count": 94,
     "metadata": {},
     "output_type": "execute_result"
    }
   ],
   "source": [
    "a_list[::1]"
   ]
  },
  {
   "cell_type": "code",
   "execution_count": 95,
   "id": "4248a315",
   "metadata": {},
   "outputs": [
    {
     "data": {
      "text/plain": [
       "[13, 14, 15]"
      ]
     },
     "execution_count": 95,
     "metadata": {},
     "output_type": "execute_result"
    }
   ],
   "source": [
    "a_list[2:5]"
   ]
  },
  {
   "cell_type": "code",
   "execution_count": 96,
   "id": "41a67e69",
   "metadata": {},
   "outputs": [
    {
     "data": {
      "text/plain": [
       "[11, 12, 13, 14, 15, 16, 17, 18]"
      ]
     },
     "execution_count": 96,
     "metadata": {},
     "output_type": "execute_result"
    }
   ],
   "source": [
    "a_list[:-2]"
   ]
  },
  {
   "cell_type": "code",
   "execution_count": 97,
   "id": "43f5b6d6",
   "metadata": {},
   "outputs": [
    {
     "data": {
      "text/plain": [
       "[20, 19, 18, 17, 16, 15, 14, 13, 12, 11]"
      ]
     },
     "execution_count": 97,
     "metadata": {},
     "output_type": "execute_result"
    }
   ],
   "source": [
    "a_list[::-1]"
   ]
  },
  {
   "cell_type": "code",
   "execution_count": 98,
   "id": "6308b882",
   "metadata": {},
   "outputs": [
    {
     "data": {
      "text/plain": [
       "[13, 16]"
      ]
     },
     "execution_count": 98,
     "metadata": {},
     "output_type": "execute_result"
    }
   ],
   "source": [
    "a_list[2:7:3]"
   ]
  },
  {
   "cell_type": "code",
   "execution_count": 99,
   "id": "9e799745",
   "metadata": {},
   "outputs": [
    {
     "data": {
      "text/plain": [
       "[13, 16, 19]"
      ]
     },
     "execution_count": 99,
     "metadata": {},
     "output_type": "execute_result"
    }
   ],
   "source": [
    "a_list[2::3]"
   ]
  }
 ],
 "metadata": {
  "kernelspec": {
   "display_name": "Python 3 (ipykernel)",
   "language": "python",
   "name": "python3"
  },
  "language_info": {
   "codemirror_mode": {
    "name": "ipython",
    "version": 3
   },
   "file_extension": ".py",
   "mimetype": "text/x-python",
   "name": "python",
   "nbconvert_exporter": "python",
   "pygments_lexer": "ipython3",
   "version": "3.11.4"
  }
 },
 "nbformat": 4,
 "nbformat_minor": 5
}
